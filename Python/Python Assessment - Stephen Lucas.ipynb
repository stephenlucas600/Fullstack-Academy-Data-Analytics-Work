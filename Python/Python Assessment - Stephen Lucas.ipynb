{
 "cells": [
  {
   "cell_type": "code",
   "execution_count": 2,
   "id": "eabb45f3",
   "metadata": {},
   "outputs": [],
   "source": [
    "# Welcome to your Final Assessment for Python!\n",
    "# Stephen Lucas\n",
    "# At the top of your notebook, you will need to import numpy, pandas, matplotlib, and seaborn.\n",
    "import pandas as pd\n",
    "import numpy as np\n",
    "import matplotlib.pylab as plt\n",
    "import seaborn as sns"
   ]
  },
  {
   "cell_type": "code",
   "execution_count": 3,
   "id": "0f6fe914",
   "metadata": {},
   "outputs": [],
   "source": [
    "# You will need to run the following code for most of the questions:\n",
    "\n",
    "subjects = ['Excel', 'Presentations', 'SQL', 'Python', 'Tableau', 'AWS']\n",
    "date = ['2023-01-02', '2023-01-16', '2023-01-30', '2023-02-13', '2023-02-27', '2023-03-13']\n",
    "difficulty = [7, 5, 9, 10, 8, 8]\n",
    "grade = [85, 90, 85, np.nan, np.nan, np.nan]\n",
    "\n",
    "# For almost all the questions below, all you need is to submit your code, \n",
    "# not any graphs, charts, or output. The exceptions are #1 and #16, which \n",
    "# require written answers."
   ]
  },
  {
   "cell_type": "code",
   "execution_count": 4,
   "id": "77c387c2",
   "metadata": {},
   "outputs": [],
   "source": [
    "# #1. What is the type of the variable subjects? What is the type of each element in subjects?"
   ]
  },
  {
   "cell_type": "code",
   "execution_count": 5,
   "id": "2d86f907",
   "metadata": {},
   "outputs": [
    {
     "name": "stdout",
     "output_type": "stream",
     "text": [
      "the variable subjects is a  <class 'list'>\n",
      "Type of each element in Subjects:  [<class 'str'>, <class 'str'>, <class 'str'>, <class 'str'>, <class 'str'>, <class 'str'>]\n"
     ]
    }
   ],
   "source": [
    "# #1 ANSWER\n",
    "print ('the variable subjects is a ',type(subjects))\n",
    "print ('Type of each element in Subjects: ', [type(i) for i in subjects])"
   ]
  },
  {
   "cell_type": "code",
   "execution_count": 6,
   "id": "4ca83e56",
   "metadata": {},
   "outputs": [],
   "source": [
    "# #2. Write code to return a list that will include the first two values in the date list, and \n",
    "# after those two, the last value in the date list."
   ]
  },
  {
   "cell_type": "code",
   "execution_count": 7,
   "id": "998b0ca5",
   "metadata": {},
   "outputs": [
    {
     "data": {
      "text/plain": [
       "['Excel', 'Presentations', 'Tableau', 'AWS']"
      ]
     },
     "execution_count": 7,
     "metadata": {},
     "output_type": "execute_result"
    }
   ],
   "source": [
    "# #2 ANSWER\n",
    "subjects2 = subjects[0:2] + subjects[len(subjects)-2:len(subjects)]\n",
    "subjects2"
   ]
  },
  {
   "cell_type": "code",
   "execution_count": 8,
   "id": "b992ab53",
   "metadata": {},
   "outputs": [],
   "source": [
    "# #3. Write code that adds a value called \"Career Services\" to the subjects list, then write \n",
    "# another line that removes it."
   ]
  },
  {
   "cell_type": "code",
   "execution_count": 9,
   "id": "35c38a48",
   "metadata": {},
   "outputs": [
    {
     "data": {
      "text/plain": [
       "['Excel',\n",
       " 'Presentations',\n",
       " 'SQL',\n",
       " 'Python',\n",
       " 'Tableau',\n",
       " 'AWS',\n",
       " 'Career Services']"
      ]
     },
     "execution_count": 9,
     "metadata": {},
     "output_type": "execute_result"
    }
   ],
   "source": [
    "# #3 ANSWER\n",
    "subjects.append(\"Career Services\")\n",
    "subjects"
   ]
  },
  {
   "cell_type": "code",
   "execution_count": 10,
   "id": "175911be",
   "metadata": {},
   "outputs": [
    {
     "data": {
      "text/plain": [
       "['Excel', 'Presentations', 'SQL', 'Python', 'Tableau', 'AWS']"
      ]
     },
     "execution_count": 10,
     "metadata": {},
     "output_type": "execute_result"
    }
   ],
   "source": [
    "subjects.remove('Career Services')\n",
    "subjects"
   ]
  },
  {
   "cell_type": "code",
   "execution_count": 11,
   "id": "ec4703d3",
   "metadata": {},
   "outputs": [],
   "source": [
    "# #4. Write a loop that will go through each element in the subjects list and print out a \n",
    "# lowercase version of each element's first letter. For each line in your code, write a \n",
    "# comment that explains its functionality."
   ]
  },
  {
   "cell_type": "code",
   "execution_count": 12,
   "id": "7cd3d5fc",
   "metadata": {},
   "outputs": [
    {
     "name": "stdout",
     "output_type": "stream",
     "text": [
      "e\n",
      "p\n",
      "s\n",
      "p\n",
      "t\n",
      "a\n"
     ]
    }
   ],
   "source": [
    "# #4 ANSWER\n",
    "#for-each loop for subjects elements\n",
    "for subject in subjects:\n",
    "    #within print(), get first char from string as a list, then call lower() to convert\n",
    "    print(subject[0].lower())"
   ]
  },
  {
   "cell_type": "code",
   "execution_count": 13,
   "id": "f600b196",
   "metadata": {},
   "outputs": [],
   "source": [
    "# #5. Write a function called grade_feedback that takes one argument, a numerical grade, \n",
    "# and returns an output as follows: if the grade is above 90, output \"Excellent\", if it \n",
    "# is between 80 and 90, output \"Good\", and if it is below 80, output \"Fair.\" (It is \n",
    "# advisable to test this function to make sure each of the three outputs works correctly.)"
   ]
  },
  {
   "cell_type": "code",
   "execution_count": 14,
   "id": "e9b9b4ab",
   "metadata": {},
   "outputs": [
    {
     "name": "stdout",
     "output_type": "stream",
     "text": [
      "Excellent\n",
      "Good\n",
      "Good\n",
      "Fair\n",
      "Fair\n"
     ]
    }
   ],
   "source": [
    "# #5 ANSWER\n",
    "def grade_feedback(grade): \n",
    "    if grade > 90:\n",
    "        print('Excellent')\n",
    "    elif grade > 80:\n",
    "        print('Good')\n",
    "    else:\n",
    "        print('Fair')\n",
    "        \n",
    "grade_feedback(91)\n",
    "grade_feedback(90)\n",
    "grade_feedback(81)\n",
    "grade_feedback(80)\n",
    "grade_feedback(70)"
   ]
  },
  {
   "cell_type": "code",
   "execution_count": 15,
   "id": "0c6de710",
   "metadata": {},
   "outputs": [],
   "source": [
    "# #6. Make a dictionary out of the four lists above called subj_info. Each key name can \n",
    "# be identical to the list name. Then convert subj_info into a Pandas DataFrame called subjects."
   ]
  },
  {
   "cell_type": "code",
   "execution_count": 16,
   "id": "547b9527",
   "metadata": {},
   "outputs": [
    {
     "name": "stdout",
     "output_type": "stream",
     "text": [
      "{'subjects': ['Excel', 'Presentations', 'SQL', 'Python', 'Tableau', 'AWS'], 'date': ['2023-01-02', '2023-01-16', '2023-01-30', '2023-02-13', '2023-02-27', '2023-03-13'], 'difficulty': [7, 5, 9, 10, 8, 8], 'grade': [85, 90, 85, nan, nan, nan]}\n"
     ]
    },
    {
     "data": {
      "text/html": [
       "<div>\n",
       "<style scoped>\n",
       "    .dataframe tbody tr th:only-of-type {\n",
       "        vertical-align: middle;\n",
       "    }\n",
       "\n",
       "    .dataframe tbody tr th {\n",
       "        vertical-align: top;\n",
       "    }\n",
       "\n",
       "    .dataframe thead th {\n",
       "        text-align: right;\n",
       "    }\n",
       "</style>\n",
       "<table border=\"1\" class=\"dataframe\">\n",
       "  <thead>\n",
       "    <tr style=\"text-align: right;\">\n",
       "      <th></th>\n",
       "      <th>subjects</th>\n",
       "      <th>date</th>\n",
       "      <th>difficulty</th>\n",
       "      <th>grade</th>\n",
       "    </tr>\n",
       "  </thead>\n",
       "  <tbody>\n",
       "    <tr>\n",
       "      <th>0</th>\n",
       "      <td>Excel</td>\n",
       "      <td>2023-01-02</td>\n",
       "      <td>7</td>\n",
       "      <td>85.0</td>\n",
       "    </tr>\n",
       "    <tr>\n",
       "      <th>1</th>\n",
       "      <td>Presentations</td>\n",
       "      <td>2023-01-16</td>\n",
       "      <td>5</td>\n",
       "      <td>90.0</td>\n",
       "    </tr>\n",
       "    <tr>\n",
       "      <th>2</th>\n",
       "      <td>SQL</td>\n",
       "      <td>2023-01-30</td>\n",
       "      <td>9</td>\n",
       "      <td>85.0</td>\n",
       "    </tr>\n",
       "    <tr>\n",
       "      <th>3</th>\n",
       "      <td>Python</td>\n",
       "      <td>2023-02-13</td>\n",
       "      <td>10</td>\n",
       "      <td>NaN</td>\n",
       "    </tr>\n",
       "    <tr>\n",
       "      <th>4</th>\n",
       "      <td>Tableau</td>\n",
       "      <td>2023-02-27</td>\n",
       "      <td>8</td>\n",
       "      <td>NaN</td>\n",
       "    </tr>\n",
       "    <tr>\n",
       "      <th>5</th>\n",
       "      <td>AWS</td>\n",
       "      <td>2023-03-13</td>\n",
       "      <td>8</td>\n",
       "      <td>NaN</td>\n",
       "    </tr>\n",
       "  </tbody>\n",
       "</table>\n",
       "</div>"
      ],
      "text/plain": [
       "        subjects        date  difficulty  grade\n",
       "0          Excel  2023-01-02           7   85.0\n",
       "1  Presentations  2023-01-16           5   90.0\n",
       "2            SQL  2023-01-30           9   85.0\n",
       "3         Python  2023-02-13          10    NaN\n",
       "4        Tableau  2023-02-27           8    NaN\n",
       "5            AWS  2023-03-13           8    NaN"
      ]
     },
     "execution_count": 16,
     "metadata": {},
     "output_type": "execute_result"
    }
   ],
   "source": [
    "# #6 ANSWER\n",
    "\n",
    "subj_info = {\n",
    "    'subjects': subjects,\n",
    "    'date': date,\n",
    "    'difficulty': difficulty,\n",
    "    'grade': grade\n",
    "}\n",
    "print(subj_info)\n",
    "subjects = pd.DataFrame(subj_info)\n",
    "subjects"
   ]
  },
  {
   "cell_type": "code",
   "execution_count": 17,
   "id": "2325b2c6",
   "metadata": {},
   "outputs": [],
   "source": [
    "# #7. Use a Pandas method to return the first two rows in subjects."
   ]
  },
  {
   "cell_type": "code",
   "execution_count": 18,
   "id": "5471eb4d",
   "metadata": {},
   "outputs": [
    {
     "data": {
      "text/html": [
       "<div>\n",
       "<style scoped>\n",
       "    .dataframe tbody tr th:only-of-type {\n",
       "        vertical-align: middle;\n",
       "    }\n",
       "\n",
       "    .dataframe tbody tr th {\n",
       "        vertical-align: top;\n",
       "    }\n",
       "\n",
       "    .dataframe thead th {\n",
       "        text-align: right;\n",
       "    }\n",
       "</style>\n",
       "<table border=\"1\" class=\"dataframe\">\n",
       "  <thead>\n",
       "    <tr style=\"text-align: right;\">\n",
       "      <th></th>\n",
       "      <th>subjects</th>\n",
       "      <th>date</th>\n",
       "      <th>difficulty</th>\n",
       "      <th>grade</th>\n",
       "    </tr>\n",
       "  </thead>\n",
       "  <tbody>\n",
       "    <tr>\n",
       "      <th>0</th>\n",
       "      <td>Excel</td>\n",
       "      <td>2023-01-02</td>\n",
       "      <td>7</td>\n",
       "      <td>85.0</td>\n",
       "    </tr>\n",
       "    <tr>\n",
       "      <th>1</th>\n",
       "      <td>Presentations</td>\n",
       "      <td>2023-01-16</td>\n",
       "      <td>5</td>\n",
       "      <td>90.0</td>\n",
       "    </tr>\n",
       "  </tbody>\n",
       "</table>\n",
       "</div>"
      ],
      "text/plain": [
       "        subjects        date  difficulty  grade\n",
       "0          Excel  2023-01-02           7   85.0\n",
       "1  Presentations  2023-01-16           5   90.0"
      ]
     },
     "execution_count": 18,
     "metadata": {},
     "output_type": "execute_result"
    }
   ],
   "source": [
    "# #7 ANSWER\n",
    "subjects.loc[0:1]"
   ]
  },
  {
   "cell_type": "code",
   "execution_count": 19,
   "id": "36e2688a",
   "metadata": {},
   "outputs": [],
   "source": [
    "# #8. Use a Pandas method to return information about subjects. Below that code, in a \n",
    "# commented line, write the number of rows and columns."
   ]
  },
  {
   "cell_type": "code",
   "execution_count": 20,
   "id": "a07f3fe8",
   "metadata": {},
   "outputs": [
    {
     "name": "stdout",
     "output_type": "stream",
     "text": [
      "rows: 6\n",
      "columns: 4\n"
     ]
    }
   ],
   "source": [
    "# #8 ANSWER\n",
    "print('rows:', len(subjects))\n",
    "print('columns:', len(subjects.columns))\n",
    "#rows: 6\n",
    "#columns: 4"
   ]
  },
  {
   "cell_type": "code",
   "execution_count": 21,
   "id": "d07ffc4c",
   "metadata": {},
   "outputs": [],
   "source": [
    "# #9. Run a Pandas method that will give you all the summary statistics about data in every column."
   ]
  },
  {
   "cell_type": "code",
   "execution_count": 22,
   "id": "46e5db6a",
   "metadata": {},
   "outputs": [
    {
     "name": "stdout",
     "output_type": "stream",
     "text": [
      "<class 'pandas.core.frame.DataFrame'>\n",
      "RangeIndex: 6 entries, 0 to 5\n",
      "Data columns (total 4 columns):\n",
      " #   Column      Non-Null Count  Dtype  \n",
      "---  ------      --------------  -----  \n",
      " 0   subjects    6 non-null      object \n",
      " 1   date        6 non-null      object \n",
      " 2   difficulty  6 non-null      int64  \n",
      " 3   grade       3 non-null      float64\n",
      "dtypes: float64(1), int64(1), object(2)\n",
      "memory usage: 324.0+ bytes\n"
     ]
    }
   ],
   "source": [
    "# #9 ANSWER\n",
    "subjects.info()"
   ]
  },
  {
   "cell_type": "code",
   "execution_count": 23,
   "id": "2880e822",
   "metadata": {},
   "outputs": [],
   "source": [
    "# #10. Create a new column that displays difficulty followed by the text \"out of 10\". Before you write any \n",
    "# code, think about how you will combine your numeric data with the text data \"out of 10\"."
   ]
  },
  {
   "cell_type": "code",
   "execution_count": 24,
   "id": "df23a136",
   "metadata": {},
   "outputs": [
    {
     "data": {
      "text/html": [
       "<div>\n",
       "<style scoped>\n",
       "    .dataframe tbody tr th:only-of-type {\n",
       "        vertical-align: middle;\n",
       "    }\n",
       "\n",
       "    .dataframe tbody tr th {\n",
       "        vertical-align: top;\n",
       "    }\n",
       "\n",
       "    .dataframe thead th {\n",
       "        text-align: right;\n",
       "    }\n",
       "</style>\n",
       "<table border=\"1\" class=\"dataframe\">\n",
       "  <thead>\n",
       "    <tr style=\"text-align: right;\">\n",
       "      <th></th>\n",
       "      <th>subjects</th>\n",
       "      <th>date</th>\n",
       "      <th>difficulty</th>\n",
       "      <th>grade</th>\n",
       "      <th>out of 10</th>\n",
       "    </tr>\n",
       "  </thead>\n",
       "  <tbody>\n",
       "    <tr>\n",
       "      <th>0</th>\n",
       "      <td>Excel</td>\n",
       "      <td>2023-01-02</td>\n",
       "      <td>7</td>\n",
       "      <td>85.0</td>\n",
       "      <td>7 out of 10</td>\n",
       "    </tr>\n",
       "    <tr>\n",
       "      <th>1</th>\n",
       "      <td>Presentations</td>\n",
       "      <td>2023-01-16</td>\n",
       "      <td>5</td>\n",
       "      <td>90.0</td>\n",
       "      <td>5 out of 10</td>\n",
       "    </tr>\n",
       "    <tr>\n",
       "      <th>2</th>\n",
       "      <td>SQL</td>\n",
       "      <td>2023-01-30</td>\n",
       "      <td>9</td>\n",
       "      <td>85.0</td>\n",
       "      <td>9 out of 10</td>\n",
       "    </tr>\n",
       "    <tr>\n",
       "      <th>3</th>\n",
       "      <td>Python</td>\n",
       "      <td>2023-02-13</td>\n",
       "      <td>10</td>\n",
       "      <td>NaN</td>\n",
       "      <td>10 out of 10</td>\n",
       "    </tr>\n",
       "    <tr>\n",
       "      <th>4</th>\n",
       "      <td>Tableau</td>\n",
       "      <td>2023-02-27</td>\n",
       "      <td>8</td>\n",
       "      <td>NaN</td>\n",
       "      <td>8 out of 10</td>\n",
       "    </tr>\n",
       "    <tr>\n",
       "      <th>5</th>\n",
       "      <td>AWS</td>\n",
       "      <td>2023-03-13</td>\n",
       "      <td>8</td>\n",
       "      <td>NaN</td>\n",
       "      <td>8 out of 10</td>\n",
       "    </tr>\n",
       "  </tbody>\n",
       "</table>\n",
       "</div>"
      ],
      "text/plain": [
       "        subjects        date  difficulty  grade     out of 10\n",
       "0          Excel  2023-01-02           7   85.0   7 out of 10\n",
       "1  Presentations  2023-01-16           5   90.0   5 out of 10\n",
       "2            SQL  2023-01-30           9   85.0   9 out of 10\n",
       "3         Python  2023-02-13          10    NaN  10 out of 10\n",
       "4        Tableau  2023-02-27           8    NaN   8 out of 10\n",
       "5            AWS  2023-03-13           8    NaN   8 out of 10"
      ]
     },
     "execution_count": 24,
     "metadata": {},
     "output_type": "execute_result"
    }
   ],
   "source": [
    "# #10 ANSWER\n",
    "subjects['out of 10'] = subjects['difficulty'].apply(lambda x: str(x)+ ' out of 10')\n",
    "subjects"
   ]
  },
  {
   "cell_type": "code",
   "execution_count": 25,
   "id": "85ff5850",
   "metadata": {},
   "outputs": [],
   "source": [
    "# #11. Fill the null values in grade with the average value from the non-null values of grade."
   ]
  },
  {
   "cell_type": "code",
   "execution_count": 26,
   "id": "97b021ae",
   "metadata": {},
   "outputs": [
    {
     "name": "stdout",
     "output_type": "stream",
     "text": [
      "grade    86.666667\n",
      "dtype: float64\n"
     ]
    },
    {
     "data": {
      "text/html": [
       "<div>\n",
       "<style scoped>\n",
       "    .dataframe tbody tr th:only-of-type {\n",
       "        vertical-align: middle;\n",
       "    }\n",
       "\n",
       "    .dataframe tbody tr th {\n",
       "        vertical-align: top;\n",
       "    }\n",
       "\n",
       "    .dataframe thead th {\n",
       "        text-align: right;\n",
       "    }\n",
       "</style>\n",
       "<table border=\"1\" class=\"dataframe\">\n",
       "  <thead>\n",
       "    <tr style=\"text-align: right;\">\n",
       "      <th></th>\n",
       "      <th>subjects</th>\n",
       "      <th>date</th>\n",
       "      <th>difficulty</th>\n",
       "      <th>grade</th>\n",
       "      <th>out of 10</th>\n",
       "    </tr>\n",
       "  </thead>\n",
       "  <tbody>\n",
       "    <tr>\n",
       "      <th>0</th>\n",
       "      <td>Excel</td>\n",
       "      <td>2023-01-02</td>\n",
       "      <td>7</td>\n",
       "      <td>85.000000</td>\n",
       "      <td>7 out of 10</td>\n",
       "    </tr>\n",
       "    <tr>\n",
       "      <th>1</th>\n",
       "      <td>Presentations</td>\n",
       "      <td>2023-01-16</td>\n",
       "      <td>5</td>\n",
       "      <td>90.000000</td>\n",
       "      <td>5 out of 10</td>\n",
       "    </tr>\n",
       "    <tr>\n",
       "      <th>2</th>\n",
       "      <td>SQL</td>\n",
       "      <td>2023-01-30</td>\n",
       "      <td>9</td>\n",
       "      <td>85.000000</td>\n",
       "      <td>9 out of 10</td>\n",
       "    </tr>\n",
       "    <tr>\n",
       "      <th>3</th>\n",
       "      <td>Python</td>\n",
       "      <td>2023-02-13</td>\n",
       "      <td>10</td>\n",
       "      <td>86.666667</td>\n",
       "      <td>10 out of 10</td>\n",
       "    </tr>\n",
       "    <tr>\n",
       "      <th>4</th>\n",
       "      <td>Tableau</td>\n",
       "      <td>2023-02-27</td>\n",
       "      <td>8</td>\n",
       "      <td>86.666667</td>\n",
       "      <td>8 out of 10</td>\n",
       "    </tr>\n",
       "    <tr>\n",
       "      <th>5</th>\n",
       "      <td>AWS</td>\n",
       "      <td>2023-03-13</td>\n",
       "      <td>8</td>\n",
       "      <td>86.666667</td>\n",
       "      <td>8 out of 10</td>\n",
       "    </tr>\n",
       "  </tbody>\n",
       "</table>\n",
       "</div>"
      ],
      "text/plain": [
       "        subjects        date  difficulty      grade     out of 10\n",
       "0          Excel  2023-01-02           7  85.000000   7 out of 10\n",
       "1  Presentations  2023-01-16           5  90.000000   5 out of 10\n",
       "2            SQL  2023-01-30           9  85.000000   9 out of 10\n",
       "3         Python  2023-02-13          10  86.666667  10 out of 10\n",
       "4        Tableau  2023-02-27           8  86.666667   8 out of 10\n",
       "5            AWS  2023-03-13           8  86.666667   8 out of 10"
      ]
     },
     "execution_count": 26,
     "metadata": {},
     "output_type": "execute_result"
    }
   ],
   "source": [
    "# #11 ANSWER\n",
    "#subjects[['grade']]\n",
    "#subjectAverage = subjects.groupby(['grade']).mean(axis=0)\n",
    "subjectAverage = subjects[['grade']].mean(axis=0,skipna=True)\n",
    "print(subjectAverage)\n",
    "subjects=subjects.fillna(value=subjectAverage)\n",
    "subjects"
   ]
  },
  {
   "cell_type": "code",
   "execution_count": 27,
   "id": "9022e20f",
   "metadata": {},
   "outputs": [],
   "source": [
    "# #12. Create a new column called difficulty_score that maps every value in the difficulty column \n",
    "# to either \"Easier\" or \"Difficult\". If the value in difficulty is greater than or equal to 8, \n",
    "# the difficulty_score column should output \"Difficult\", otherwise \"Easier\"."
   ]
  },
  {
   "cell_type": "code",
   "execution_count": 28,
   "id": "cef51154",
   "metadata": {},
   "outputs": [
    {
     "data": {
      "text/html": [
       "<div>\n",
       "<style scoped>\n",
       "    .dataframe tbody tr th:only-of-type {\n",
       "        vertical-align: middle;\n",
       "    }\n",
       "\n",
       "    .dataframe tbody tr th {\n",
       "        vertical-align: top;\n",
       "    }\n",
       "\n",
       "    .dataframe thead th {\n",
       "        text-align: right;\n",
       "    }\n",
       "</style>\n",
       "<table border=\"1\" class=\"dataframe\">\n",
       "  <thead>\n",
       "    <tr style=\"text-align: right;\">\n",
       "      <th></th>\n",
       "      <th>subjects</th>\n",
       "      <th>date</th>\n",
       "      <th>difficulty</th>\n",
       "      <th>grade</th>\n",
       "      <th>out of 10</th>\n",
       "      <th>difficulty_score</th>\n",
       "    </tr>\n",
       "  </thead>\n",
       "  <tbody>\n",
       "    <tr>\n",
       "      <th>0</th>\n",
       "      <td>Excel</td>\n",
       "      <td>2023-01-02</td>\n",
       "      <td>7</td>\n",
       "      <td>85.000000</td>\n",
       "      <td>7 out of 10</td>\n",
       "      <td>Easier</td>\n",
       "    </tr>\n",
       "    <tr>\n",
       "      <th>1</th>\n",
       "      <td>Presentations</td>\n",
       "      <td>2023-01-16</td>\n",
       "      <td>5</td>\n",
       "      <td>90.000000</td>\n",
       "      <td>5 out of 10</td>\n",
       "      <td>Easier</td>\n",
       "    </tr>\n",
       "    <tr>\n",
       "      <th>2</th>\n",
       "      <td>SQL</td>\n",
       "      <td>2023-01-30</td>\n",
       "      <td>9</td>\n",
       "      <td>85.000000</td>\n",
       "      <td>9 out of 10</td>\n",
       "      <td>Difficult</td>\n",
       "    </tr>\n",
       "    <tr>\n",
       "      <th>3</th>\n",
       "      <td>Python</td>\n",
       "      <td>2023-02-13</td>\n",
       "      <td>10</td>\n",
       "      <td>86.666667</td>\n",
       "      <td>10 out of 10</td>\n",
       "      <td>Difficult</td>\n",
       "    </tr>\n",
       "    <tr>\n",
       "      <th>4</th>\n",
       "      <td>Tableau</td>\n",
       "      <td>2023-02-27</td>\n",
       "      <td>8</td>\n",
       "      <td>86.666667</td>\n",
       "      <td>8 out of 10</td>\n",
       "      <td>Difficult</td>\n",
       "    </tr>\n",
       "    <tr>\n",
       "      <th>5</th>\n",
       "      <td>AWS</td>\n",
       "      <td>2023-03-13</td>\n",
       "      <td>8</td>\n",
       "      <td>86.666667</td>\n",
       "      <td>8 out of 10</td>\n",
       "      <td>Difficult</td>\n",
       "    </tr>\n",
       "  </tbody>\n",
       "</table>\n",
       "</div>"
      ],
      "text/plain": [
       "        subjects        date  difficulty      grade     out of 10  \\\n",
       "0          Excel  2023-01-02           7  85.000000   7 out of 10   \n",
       "1  Presentations  2023-01-16           5  90.000000   5 out of 10   \n",
       "2            SQL  2023-01-30           9  85.000000   9 out of 10   \n",
       "3         Python  2023-02-13          10  86.666667  10 out of 10   \n",
       "4        Tableau  2023-02-27           8  86.666667   8 out of 10   \n",
       "5            AWS  2023-03-13           8  86.666667   8 out of 10   \n",
       "\n",
       "  difficulty_score  \n",
       "0           Easier  \n",
       "1           Easier  \n",
       "2        Difficult  \n",
       "3        Difficult  \n",
       "4        Difficult  \n",
       "5        Difficult  "
      ]
     },
     "execution_count": 28,
     "metadata": {},
     "output_type": "execute_result"
    }
   ],
   "source": [
    "# #12 ANSWER\n",
    "#helper funcation\n",
    "def difficulty_feedback(difficulty): \n",
    "    if difficulty >= 8:\n",
    "        return('Difficult')\n",
    "    else:\n",
    "        return('Easier')\n",
    "\n",
    "subjects['difficulty_score']=subjects['difficulty'].apply(difficulty_feedback)\n",
    "subjects"
   ]
  },
  {
   "cell_type": "code",
   "execution_count": 29,
   "id": "245e2eae",
   "metadata": {},
   "outputs": [],
   "source": [
    "# #13. Create a new DataFrame called difficult_subjects that only includes the subjects marked \n",
    "# \"Difficult\" in the new column."
   ]
  },
  {
   "cell_type": "code",
   "execution_count": 30,
   "id": "849235e0",
   "metadata": {},
   "outputs": [
    {
     "data": {
      "text/html": [
       "<div>\n",
       "<style scoped>\n",
       "    .dataframe tbody tr th:only-of-type {\n",
       "        vertical-align: middle;\n",
       "    }\n",
       "\n",
       "    .dataframe tbody tr th {\n",
       "        vertical-align: top;\n",
       "    }\n",
       "\n",
       "    .dataframe thead th {\n",
       "        text-align: right;\n",
       "    }\n",
       "</style>\n",
       "<table border=\"1\" class=\"dataframe\">\n",
       "  <thead>\n",
       "    <tr style=\"text-align: right;\">\n",
       "      <th></th>\n",
       "      <th>subjects</th>\n",
       "      <th>date</th>\n",
       "      <th>difficulty</th>\n",
       "      <th>grade</th>\n",
       "      <th>out of 10</th>\n",
       "      <th>difficulty_score</th>\n",
       "    </tr>\n",
       "  </thead>\n",
       "  <tbody>\n",
       "    <tr>\n",
       "      <th>0</th>\n",
       "      <td>SQL</td>\n",
       "      <td>2023-01-30</td>\n",
       "      <td>9</td>\n",
       "      <td>85.000000</td>\n",
       "      <td>9 out of 10</td>\n",
       "      <td>Difficult</td>\n",
       "    </tr>\n",
       "    <tr>\n",
       "      <th>1</th>\n",
       "      <td>Python</td>\n",
       "      <td>2023-02-13</td>\n",
       "      <td>10</td>\n",
       "      <td>86.666667</td>\n",
       "      <td>10 out of 10</td>\n",
       "      <td>Difficult</td>\n",
       "    </tr>\n",
       "    <tr>\n",
       "      <th>2</th>\n",
       "      <td>Tableau</td>\n",
       "      <td>2023-02-27</td>\n",
       "      <td>8</td>\n",
       "      <td>86.666667</td>\n",
       "      <td>8 out of 10</td>\n",
       "      <td>Difficult</td>\n",
       "    </tr>\n",
       "    <tr>\n",
       "      <th>3</th>\n",
       "      <td>AWS</td>\n",
       "      <td>2023-03-13</td>\n",
       "      <td>8</td>\n",
       "      <td>86.666667</td>\n",
       "      <td>8 out of 10</td>\n",
       "      <td>Difficult</td>\n",
       "    </tr>\n",
       "  </tbody>\n",
       "</table>\n",
       "</div>"
      ],
      "text/plain": [
       "  subjects        date  difficulty      grade     out of 10 difficulty_score\n",
       "0      SQL  2023-01-30           9  85.000000   9 out of 10        Difficult\n",
       "1   Python  2023-02-13          10  86.666667  10 out of 10        Difficult\n",
       "2  Tableau  2023-02-27           8  86.666667   8 out of 10        Difficult\n",
       "3      AWS  2023-03-13           8  86.666667   8 out of 10        Difficult"
      ]
     },
     "execution_count": 30,
     "metadata": {},
     "output_type": "execute_result"
    }
   ],
   "source": [
    "# #13 ANSWER\n",
    "difficult_subjects = subjects[subjects.difficulty_score =='Difficult'].reset_index(drop=True)\n",
    "difficult_subjects"
   ]
  },
  {
   "cell_type": "code",
   "execution_count": 31,
   "id": "c5318dba",
   "metadata": {},
   "outputs": [],
   "source": [
    "# #14. Sort the new difficult_subjects DataFrame by difficulty descending."
   ]
  },
  {
   "cell_type": "code",
   "execution_count": 32,
   "id": "8e3df40a",
   "metadata": {},
   "outputs": [
    {
     "data": {
      "text/html": [
       "<div>\n",
       "<style scoped>\n",
       "    .dataframe tbody tr th:only-of-type {\n",
       "        vertical-align: middle;\n",
       "    }\n",
       "\n",
       "    .dataframe tbody tr th {\n",
       "        vertical-align: top;\n",
       "    }\n",
       "\n",
       "    .dataframe thead th {\n",
       "        text-align: right;\n",
       "    }\n",
       "</style>\n",
       "<table border=\"1\" class=\"dataframe\">\n",
       "  <thead>\n",
       "    <tr style=\"text-align: right;\">\n",
       "      <th></th>\n",
       "      <th>subjects</th>\n",
       "      <th>date</th>\n",
       "      <th>difficulty</th>\n",
       "      <th>grade</th>\n",
       "      <th>out of 10</th>\n",
       "      <th>difficulty_score</th>\n",
       "    </tr>\n",
       "  </thead>\n",
       "  <tbody>\n",
       "    <tr>\n",
       "      <th>1</th>\n",
       "      <td>Python</td>\n",
       "      <td>2023-02-13</td>\n",
       "      <td>10</td>\n",
       "      <td>86.666667</td>\n",
       "      <td>10 out of 10</td>\n",
       "      <td>Difficult</td>\n",
       "    </tr>\n",
       "    <tr>\n",
       "      <th>0</th>\n",
       "      <td>SQL</td>\n",
       "      <td>2023-01-30</td>\n",
       "      <td>9</td>\n",
       "      <td>85.000000</td>\n",
       "      <td>9 out of 10</td>\n",
       "      <td>Difficult</td>\n",
       "    </tr>\n",
       "    <tr>\n",
       "      <th>2</th>\n",
       "      <td>Tableau</td>\n",
       "      <td>2023-02-27</td>\n",
       "      <td>8</td>\n",
       "      <td>86.666667</td>\n",
       "      <td>8 out of 10</td>\n",
       "      <td>Difficult</td>\n",
       "    </tr>\n",
       "    <tr>\n",
       "      <th>3</th>\n",
       "      <td>AWS</td>\n",
       "      <td>2023-03-13</td>\n",
       "      <td>8</td>\n",
       "      <td>86.666667</td>\n",
       "      <td>8 out of 10</td>\n",
       "      <td>Difficult</td>\n",
       "    </tr>\n",
       "  </tbody>\n",
       "</table>\n",
       "</div>"
      ],
      "text/plain": [
       "  subjects        date  difficulty      grade     out of 10 difficulty_score\n",
       "1   Python  2023-02-13          10  86.666667  10 out of 10        Difficult\n",
       "0      SQL  2023-01-30           9  85.000000   9 out of 10        Difficult\n",
       "2  Tableau  2023-02-27           8  86.666667   8 out of 10        Difficult\n",
       "3      AWS  2023-03-13           8  86.666667   8 out of 10        Difficult"
      ]
     },
     "execution_count": 32,
     "metadata": {},
     "output_type": "execute_result"
    }
   ],
   "source": [
    "# #14 ANSWER\n",
    "difficult_subjects=difficult_subjects.sort_values(by=['difficulty'],ascending=False)\n",
    "difficult_subjects"
   ]
  },
  {
   "cell_type": "code",
   "execution_count": 33,
   "id": "74325950",
   "metadata": {},
   "outputs": [],
   "source": [
    "# #15. Create a matplotlib bar plot that plots subjects and their corresponding grades. \n",
    "# Make the bars yellow, and add a descriptive title and x-axis and y-axis labels."
   ]
  },
  {
   "cell_type": "code",
   "execution_count": 38,
   "id": "8343b7fe",
   "metadata": {},
   "outputs": [
    {
     "data": {
      "text/plain": [
       "<BarContainer object of 6 artists>"
      ]
     },
     "execution_count": 38,
     "metadata": {},
     "output_type": "execute_result"
    },
    {
     "data": {
      "image/png": "[encoded data removed]",
      "text/plain": [
       "<Figure size 640x480 with 1 Axes>"
      ]
     },
     "metadata": {},
     "output_type": "display_data"
    }
   ],
   "source": [
    "# #15 ANSWER\n",
    "plt.title('Subject Grades')\n",
    "plt.xlabel('Subjects')\n",
    "plt.ylabel('Grades')\n",
    "plt.bar(subjects['subjects'], subjects['grade'], color='yellow')"
   ]
  },
  {
   "cell_type": "code",
   "execution_count": 40,
   "id": "c59c4629",
   "metadata": {},
   "outputs": [],
   "source": [
    "# #16. This question requires a new dataset, which you can obtain by running the below code:\n",
    "import statsmodels.api as sm\n",
    "df = sm.datasets.macrodata.load_pandas()['data']\n",
    "# Use seaborn to answer the following questions:\n",
    "# a. Create a scatter plot to determine if unemployment and inflation are correlated. \n",
    "# Is there a clear correlation?\n",
    "# b. Create a displot for unemployment. \n",
    "# Which percentages seem to be the most common?\n",
    "# c. Create a boxplot that shows real interest rate by quarter. \n",
    "# Which quarter had the all-time lowest real interest rate?"
   ]
  },
  {
   "cell_type": "code",
   "execution_count": 41,
   "id": "7aec2e7d",
   "metadata": {},
   "outputs": [
    {
     "data": {
      "text/html": [
       "<div>\n",
       "<style scoped>\n",
       "    .dataframe tbody tr th:only-of-type {\n",
       "        vertical-align: middle;\n",
       "    }\n",
       "\n",
       "    .dataframe tbody tr th {\n",
       "        vertical-align: top;\n",
       "    }\n",
       "\n",
       "    .dataframe thead th {\n",
       "        text-align: right;\n",
       "    }\n",
       "</style>\n",
       "<table border=\"1\" class=\"dataframe\">\n",
       "  <thead>\n",
       "    <tr style=\"text-align: right;\">\n",
       "      <th></th>\n",
       "      <th>year</th>\n",
       "      <th>quarter</th>\n",
       "      <th>realgdp</th>\n",
       "      <th>realcons</th>\n",
       "      <th>realinv</th>\n",
       "      <th>realgovt</th>\n",
       "      <th>realdpi</th>\n",
       "      <th>cpi</th>\n",
       "      <th>m1</th>\n",
       "      <th>tbilrate</th>\n",
       "      <th>unemp</th>\n",
       "      <th>pop</th>\n",
       "      <th>infl</th>\n",
       "      <th>realint</th>\n",
       "    </tr>\n",
       "  </thead>\n",
       "  <tbody>\n",
       "    <tr>\n",
       "      <th>0</th>\n",
       "      <td>1959.0</td>\n",
       "      <td>1.0</td>\n",
       "      <td>2710.349</td>\n",
       "      <td>1707.4</td>\n",
       "      <td>286.898</td>\n",
       "      <td>470.045</td>\n",
       "      <td>1886.9</td>\n",
       "      <td>28.98</td>\n",
       "      <td>139.7</td>\n",
       "      <td>2.82</td>\n",
       "      <td>5.8</td>\n",
       "      <td>177.146</td>\n",
       "      <td>0.00</td>\n",
       "      <td>0.00</td>\n",
       "    </tr>\n",
       "    <tr>\n",
       "      <th>1</th>\n",
       "      <td>1959.0</td>\n",
       "      <td>2.0</td>\n",
       "      <td>2778.801</td>\n",
       "      <td>1733.7</td>\n",
       "      <td>310.859</td>\n",
       "      <td>481.301</td>\n",
       "      <td>1919.7</td>\n",
       "      <td>29.15</td>\n",
       "      <td>141.7</td>\n",
       "      <td>3.08</td>\n",
       "      <td>5.1</td>\n",
       "      <td>177.830</td>\n",
       "      <td>2.34</td>\n",
       "      <td>0.74</td>\n",
       "    </tr>\n",
       "    <tr>\n",
       "      <th>2</th>\n",
       "      <td>1959.0</td>\n",
       "      <td>3.0</td>\n",
       "      <td>2775.488</td>\n",
       "      <td>1751.8</td>\n",
       "      <td>289.226</td>\n",
       "      <td>491.260</td>\n",
       "      <td>1916.4</td>\n",
       "      <td>29.35</td>\n",
       "      <td>140.5</td>\n",
       "      <td>3.82</td>\n",
       "      <td>5.3</td>\n",
       "      <td>178.657</td>\n",
       "      <td>2.74</td>\n",
       "      <td>1.09</td>\n",
       "    </tr>\n",
       "    <tr>\n",
       "      <th>3</th>\n",
       "      <td>1959.0</td>\n",
       "      <td>4.0</td>\n",
       "      <td>2785.204</td>\n",
       "      <td>1753.7</td>\n",
       "      <td>299.356</td>\n",
       "      <td>484.052</td>\n",
       "      <td>1931.3</td>\n",
       "      <td>29.37</td>\n",
       "      <td>140.0</td>\n",
       "      <td>4.33</td>\n",
       "      <td>5.6</td>\n",
       "      <td>179.386</td>\n",
       "      <td>0.27</td>\n",
       "      <td>4.06</td>\n",
       "    </tr>\n",
       "    <tr>\n",
       "      <th>4</th>\n",
       "      <td>1960.0</td>\n",
       "      <td>1.0</td>\n",
       "      <td>2847.699</td>\n",
       "      <td>1770.5</td>\n",
       "      <td>331.722</td>\n",
       "      <td>462.199</td>\n",
       "      <td>1955.5</td>\n",
       "      <td>29.54</td>\n",
       "      <td>139.6</td>\n",
       "      <td>3.50</td>\n",
       "      <td>5.2</td>\n",
       "      <td>180.007</td>\n",
       "      <td>2.31</td>\n",
       "      <td>1.19</td>\n",
       "    </tr>\n",
       "  </tbody>\n",
       "</table>\n",
       "</div>"
      ],
      "text/plain": [
       "     year  quarter   realgdp  realcons  realinv  realgovt  realdpi    cpi  \\\n",
       "0  1959.0      1.0  2710.349    1707.4  286.898   470.045   1886.9  28.98   \n",
       "1  1959.0      2.0  2778.801    1733.7  310.859   481.301   1919.7  29.15   \n",
       "2  1959.0      3.0  2775.488    1751.8  289.226   491.260   1916.4  29.35   \n",
       "3  1959.0      4.0  2785.204    1753.7  299.356   484.052   1931.3  29.37   \n",
       "4  1960.0      1.0  2847.699    1770.5  331.722   462.199   1955.5  29.54   \n",
       "\n",
       "      m1  tbilrate  unemp      pop  infl  realint  \n",
       "0  139.7      2.82    5.8  177.146  0.00     0.00  \n",
       "1  141.7      3.08    5.1  177.830  2.34     0.74  \n",
       "2  140.5      3.82    5.3  178.657  2.74     1.09  \n",
       "3  140.0      4.33    5.6  179.386  0.27     4.06  \n",
       "4  139.6      3.50    5.2  180.007  2.31     1.19  "
      ]
     },
     "execution_count": 41,
     "metadata": {},
     "output_type": "execute_result"
    }
   ],
   "source": [
    "df.head()"
   ]
  },
  {
   "cell_type": "code",
   "execution_count": 47,
   "id": "b34d33d9",
   "metadata": {},
   "outputs": [
    {
     "data": {
      "text/plain": [
       "<Axes: xlabel='unemp', ylabel='infl'>"
      ]
     },
     "execution_count": 47,
     "metadata": {},
     "output_type": "execute_result"
    },
    {
     "data": {
      "image/png": "[encoded data removed]",
      "text/plain": [
       "<Figure size 1500x500 with 1 Axes>"
      ]
     },
     "metadata": {},
     "output_type": "display_data"
    }
   ],
   "source": [
    "# #16 ANSWER\n",
    "#a.\n",
    "plt.figure(figsize=(15,5))\n",
    "sns.scatterplot(data=df,y='infl',x='unemp',hue='year')\n",
    "# there is no clear correlation betteen unemployment and inflation \n",
    "# outside when inflation is never higher then about 7.0 when unemployment is less then 5"
   ]
  },
  {
   "cell_type": "code",
   "execution_count": 49,
   "id": "55866042",
   "metadata": {},
   "outputs": [
    {
     "data": {
      "text/plain": [
       "<seaborn.axisgrid.FacetGrid at 0x1e9effbc0d0>"
      ]
     },
     "execution_count": 49,
     "metadata": {},
     "output_type": "execute_result"
    },
    {
     "data": {
      "image/png": "[encoded data removed]",
      "text/plain": [
       "<Figure size 500x500 with 1 Axes>"
      ]
     },
     "metadata": {},
     "output_type": "display_data"
    }
   ],
   "source": [
    "#b.\n",
    "sns.displot(data=df,x='unemp')\n",
    "# most common persentage for unemployment is about 5.5 by a count of around 50."
   ]
  },
  {
   "cell_type": "code",
   "execution_count": 53,
   "id": "d7ba801f",
   "metadata": {},
   "outputs": [
    {
     "data": {
      "text/plain": [
       "<Axes: xlabel='quarter', ylabel='realint'>"
      ]
     },
     "execution_count": 53,
     "metadata": {},
     "output_type": "execute_result"
    },
    {
     "data": {
      "image/png": "[encoded data removed]",
      "text/plain": [
       "<Figure size 640x480 with 1 Axes>"
      ]
     },
     "metadata": {},
     "output_type": "display_data"
    }
   ],
   "source": [
    "#c.\n",
    "sns.boxplot(data=df, x=\"quarter\", y=\"realint\")\n",
    "#second Quarter had the all time lowest real intrest rate of about less then -7.5"
   ]
  }
 ],
 "metadata": {
  "kernelspec": {
   "display_name": "Python 3 (ipykernel)",
   "language": "python",
   "name": "python3"
  },
  "language_info": {
   "codemirror_mode": {
    "name": "ipython",
    "version": 3
   },
   "file_extension": ".py",
   "mimetype": "text/x-python",
   "name": "python",
   "nbconvert_exporter": "python",
   "pygments_lexer": "ipython3",
   "version": "3.11.4"
  }
 },
 "nbformat": 4,
 "nbformat_minor": 5
}
