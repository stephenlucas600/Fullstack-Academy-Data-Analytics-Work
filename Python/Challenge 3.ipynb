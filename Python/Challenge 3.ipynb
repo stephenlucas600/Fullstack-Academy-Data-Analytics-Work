{
 "cells": [
  {
   "cell_type": "code",
   "execution_count": null,
   "id": "b4c09185",
   "metadata": {},
   "outputs": [],
   "source": [
    "'''Create basic calculations:\n",
    "Add two integers together. \n",
    "What is the result?\n",
    "Subtract two integers. \n",
    "What is the result?\n",
    "Divide two values. Have the result be an integer by using floor division. \n",
    "What is the result?\n",
    "Create a variable ‘x’, have it’s value be 10+5. Print ‘x’. \n",
    "What is the result?\n",
    "Create two strings and combine them using the + operator. \n",
    "What was the result?\n",
    "Create variable ‘y’ and have the value be ‘program’. Omit letters o and g. Print the result.\n",
    "Create a list called ‘calendar_months’.\n",
    "How long is the list?\n",
    "Print only February, March, and April.\n",
    "Create a sample list of your choice, using string variables. \n",
    "Create a second sample list of your choice, using string variables. \n",
    "Create a third list that concats the two sample lists you created above.\n",
    "Remove one item from the third list. \n",
    "Create a dictionary that has four keys and assign those keys values. \n",
    "What is the length of the dictionary?'''"
   ]
  },
  {
   "cell_type": "code",
   "execution_count": 1,
   "id": "225a52d2",
   "metadata": {},
   "outputs": [
    {
     "data": {
      "text/plain": [
       "4"
      ]
     },
     "execution_count": 1,
     "metadata": {},
     "output_type": "execute_result"
    }
   ],
   "source": [
    "#Add two integers together.\n",
    "2+2"
   ]
  },
  {
   "cell_type": "code",
   "execution_count": 2,
   "id": "e58a4ba9",
   "metadata": {},
   "outputs": [
    {
     "data": {
      "text/plain": [
       "0"
      ]
     },
     "execution_count": 2,
     "metadata": {},
     "output_type": "execute_result"
    }
   ],
   "source": [
    "#Subtract two integers\n",
    "2-2"
   ]
  },
  {
   "cell_type": "code",
   "execution_count": 3,
   "id": "0abba909",
   "metadata": {},
   "outputs": [
    {
     "data": {
      "text/plain": [
       "2"
      ]
     },
     "execution_count": 3,
     "metadata": {},
     "output_type": "execute_result"
    }
   ],
   "source": [
    "#Divide two values. Have the result be an integer by using floor division.\n",
    "5//2"
   ]
  },
  {
   "cell_type": "code",
   "execution_count": 4,
   "id": "e354e4d8",
   "metadata": {},
   "outputs": [
    {
     "name": "stdout",
     "output_type": "stream",
     "text": [
      "15\n"
     ]
    }
   ],
   "source": [
    "#Create a variable ‘x’, have it’s value be 10+5. Print ‘x’. \n",
    "x = 10 + 5\n",
    "print(x)"
   ]
  },
  {
   "cell_type": "code",
   "execution_count": 5,
   "id": "82f9a4d9",
   "metadata": {},
   "outputs": [
    {
     "name": "stdout",
     "output_type": "stream",
     "text": [
      "have a great day\n"
     ]
    }
   ],
   "source": [
    "#Create two strings and combine them using the + operator. \n",
    "a='have a'\n",
    "b= ' great day'\n",
    "print(a+b)"
   ]
  },
  {
   "cell_type": "code",
   "execution_count": 7,
   "id": "bdb8f63b",
   "metadata": {},
   "outputs": [
    {
     "name": "stdout",
     "output_type": "stream",
     "text": [
      "p ram\n"
     ]
    }
   ],
   "source": [
    "#Create variable ‘y’ and have the value be ‘program’. Omit letters o and g. Print the result.\n",
    "y = 'program'\n",
    "print(y[0:1],y[4:])"
   ]
  },
  {
   "cell_type": "code",
   "execution_count": 13,
   "id": "2fca3115",
   "metadata": {},
   "outputs": [
    {
     "data": {
      "text/plain": [
       "11"
      ]
     },
     "execution_count": 13,
     "metadata": {},
     "output_type": "execute_result"
    }
   ],
   "source": [
    "#Create a list called ‘calendar_months’.\n",
    "calendar_months =['January','Feburary','March', 'April','May', 'June', 'July', 'Augest','September', 'October', 'November', 'December']\n",
    "#How long is the list?\n",
    "len(calendar_months)"
   ]
  },
  {
   "cell_type": "code",
   "execution_count": 15,
   "id": "5bf891c3",
   "metadata": {},
   "outputs": [
    {
     "name": "stdout",
     "output_type": "stream",
     "text": [
      "['Feburary', 'March', 'April']\n"
     ]
    }
   ],
   "source": [
    "#Print only February, March, and April.\n",
    "print(calendar_months[1:4])"
   ]
  },
  {
   "cell_type": "code",
   "execution_count": 12,
   "id": "e1ed3888",
   "metadata": {},
   "outputs": [
    {
     "name": "stdout",
     "output_type": "stream",
     "text": [
      "['red', 'blue', 'green', 'yellow', 'black', 'Spring', 'Summmer', 'Fall', 'Winter']\n"
     ]
    }
   ],
   "source": [
    "#Create a sample list of your choice, using string variables.\n",
    "color=['red', 'blue','green', 'yellow', 'black']\n",
    "#Create a sample list of your choice, using string variables.\n",
    "seasons=['Spring', 'Summmer', 'Fall', 'Winter']\n",
    "#Create a third list that concats the two sample lists you created above.\n",
    "season_color= color+seasons\n",
    "print(season_color)\n",
    "#Remove one item from the third list.\n",
    "season_color2 = season_color.remove(\"green\")"
   ]
  },
  {
   "cell_type": "code",
   "execution_count": 17,
   "id": "029ed0c9",
   "metadata": {},
   "outputs": [
    {
     "data": {
      "text/plain": [
       "4"
      ]
     },
     "execution_count": 17,
     "metadata": {},
     "output_type": "execute_result"
    }
   ],
   "source": [
    "#Create a dictionary that has four keys and assign those keys values. \n",
    "holidays={'January':\"New Year's\",\n",
    "          'Febuary':\"Valentine's Day\",\n",
    "          'March':\"St. Patrick's Day\",\n",
    "          'April':'Easter'\n",
    "         }\n",
    "#What is the length of the dictionary\n",
    "len(holidays)"
   ]
  },
  {
   "cell_type": "code",
   "execution_count": null,
   "id": "0da2f25a",
   "metadata": {},
   "outputs": [],
   "source": []
  }
 ],
 "metadata": {
  "kernelspec": {
   "display_name": "Python 3 (ipykernel)",
   "language": "python",
   "name": "python3"
  },
  "language_info": {
   "codemirror_mode": {
    "name": "ipython",
    "version": 3
   },
   "file_extension": ".py",
   "mimetype": "text/x-python",
   "name": "python",
   "nbconvert_exporter": "python",
   "pygments_lexer": "ipython3",
   "version": "3.11.4"
  }
 },
 "nbformat": 4,
 "nbformat_minor": 5
}
