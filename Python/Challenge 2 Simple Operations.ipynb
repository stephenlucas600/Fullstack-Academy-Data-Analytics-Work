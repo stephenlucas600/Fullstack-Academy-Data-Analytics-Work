{
 "cells": [
  {
   "cell_type": "markdown",
   "id": "7e0d11ac",
   "metadata": {},
   "source": [
    "## Q1\n",
    "Stephen Lucas"
   ]
  },
  {
   "cell_type": "code",
   "execution_count": 1,
   "id": "9a9d0e4c",
   "metadata": {},
   "outputs": [
    {
     "name": "stdout",
     "output_type": "stream",
     "text": [
      "Enter a Number: 4\n",
      "This is the number you entered: 4\n"
     ]
    }
   ],
   "source": [
    "num  = input('Enter a Number: ')\n",
    "print('This is the number you entered: ' + num)"
   ]
  },
  {
   "cell_type": "code",
   "execution_count": 16,
   "id": "f0adc9b2",
   "metadata": {},
   "outputs": [
    {
     "name": "stdout",
     "output_type": "stream",
     "text": [
      "Enter a number: 5\n",
      "The area of the Square with a length of  5  is  25\n"
     ]
    }
   ],
   "source": [
    "# Q2\n",
    "# Square\n",
    "x = int(input(\"Enter a number: \"))\n",
    "a = x**2\n",
    "print ('The area of the Square with a length of ', x, ' is ', a)"
   ]
  },
  {
   "cell_type": "code",
   "execution_count": 17,
   "id": "97174c3c",
   "metadata": {},
   "outputs": [
    {
     "name": "stdout",
     "output_type": "stream",
     "text": [
      "Enter a number: 4\n",
      "Enter a number: 6\n",
      "The area of the Rectangle with a hight of  6  width of   4  is  24\n"
     ]
    }
   ],
   "source": [
    "# Rectangle\n",
    "b = int(input(\"Enter a number: \"))\n",
    "h = int(input(\"Enter a number: \"))\n",
    "a = b*h\n",
    "print ('The area of the Rectangle with a hight of ', h, ' width of  ', b, ' is ', a)"
   ]
  },
  {
   "cell_type": "code",
   "execution_count": 18,
   "id": "cebe0e95",
   "metadata": {},
   "outputs": [
    {
     "name": "stdout",
     "output_type": "stream",
     "text": [
      "Enter a number: 4\n",
      "Enter a number: 6\n",
      "The area of the Triangle with a hight of  6  width of   4  is  12.0\n"
     ]
    }
   ],
   "source": [
    "# Triangle\n",
    "b = int(input(\"Enter a number: \"))\n",
    "h = int(input(\"Enter a number: \"))\n",
    "a = b*h/2\n",
    "print ('The area of the Triangle with a hight of ', h, ' width of  ', b, ' is ', a)"
   ]
  },
  {
   "cell_type": "code",
   "execution_count": 19,
   "id": "97a63e98",
   "metadata": {},
   "outputs": [
    {
     "name": "stdout",
     "output_type": "stream",
     "text": [
      "Enter a number: 2\n",
      "Enter a number: 4\n",
      "The area of the Ellipse with a radios of  2  and   4  is  25.132741228718345\n"
     ]
    }
   ],
   "source": [
    "# Ellipse\n",
    "import math\n",
    "r1 = int(input(\"Enter a number: \"))\n",
    "r2 = int(input(\"Enter a number: \"))\n",
    "a = math.pi*r1*r2\n",
    "print ('The area of the Ellipse with a radios of ', r1, ' and  ', r2, ' is ', a)"
   ]
  },
  {
   "cell_type": "code",
   "execution_count": 21,
   "id": "c5eceb2e",
   "metadata": {},
   "outputs": [
    {
     "name": "stdout",
     "output_type": "stream",
     "text": [
      "Enter a number: 1\n",
      "Enter a number: 4\n",
      "Enter a number: 5\n",
      "The area of the Trapezoid with a hight of  5  width of   1  and  4  is  12.5\n"
     ]
    }
   ],
   "source": [
    "# Trapezoid\n",
    "b1 = int(input(\"Enter a number: \"))\n",
    "b2 = int(input(\"Enter a number: \"))\n",
    "h = int(input(\"Enter a number: \"))\n",
    "a = (b1+b2)*h/2\n",
    "print ('The area of the Trapezoid with a hight of ', h, ' width of  ', b1, ' and ', b2, ' is ', a)"
   ]
  },
  {
   "cell_type": "code",
   "execution_count": 1,
   "id": "0ad4e2ee",
   "metadata": {},
   "outputs": [],
   "source": [
    "# Q4\n",
    "import math as m"
   ]
  },
  {
   "cell_type": "code",
   "execution_count": 2,
   "id": "a02831d6",
   "metadata": {},
   "outputs": [],
   "source": [
    "# Q5\n",
    "angle = 45"
   ]
  },
  {
   "cell_type": "code",
   "execution_count": 3,
   "id": "088b5021",
   "metadata": {},
   "outputs": [
    {
     "name": "stdout",
     "output_type": "stream",
     "text": [
      "0.7853981633974483\n"
     ]
    }
   ],
   "source": [
    "# Q6\n",
    "rad_angle = m.radians(angle)\n",
    "print(rad_angle)"
   ]
  },
  {
   "cell_type": "code",
   "execution_count": 5,
   "id": "1f6dac0d",
   "metadata": {},
   "outputs": [
    {
     "data": {
      "text/plain": [
       "0.7071067811865476"
      ]
     },
     "execution_count": 5,
     "metadata": {},
     "output_type": "execute_result"
    }
   ],
   "source": [
    "# Q7\n",
    "m.sin(rad_angle)"
   ]
  },
  {
   "cell_type": "code",
   "execution_count": 7,
   "id": "28376338",
   "metadata": {},
   "outputs": [
    {
     "data": {
      "text/plain": [
       "0.7071067811865476"
      ]
     },
     "execution_count": 7,
     "metadata": {},
     "output_type": "execute_result"
    }
   ],
   "source": [
    "# Q8\n",
    "m.cos(rad_angle)"
   ]
  },
  {
   "cell_type": "code",
   "execution_count": 8,
   "id": "e19d8450",
   "metadata": {},
   "outputs": [
    {
     "data": {
      "text/plain": [
       "16.0"
      ]
     },
     "execution_count": 8,
     "metadata": {},
     "output_type": "execute_result"
    }
   ],
   "source": [
    "# Q9\n",
    "m.sqrt(256)"
   ]
  },
  {
   "cell_type": "code",
   "execution_count": 9,
   "id": "08ced1af",
   "metadata": {},
   "outputs": [
    {
     "data": {
      "text/plain": [
       "1024"
      ]
     },
     "execution_count": 9,
     "metadata": {},
     "output_type": "execute_result"
    }
   ],
   "source": [
    "# Q10\n",
    "4**5"
   ]
  },
  {
   "cell_type": "code",
   "execution_count": null,
   "id": "b1234967",
   "metadata": {},
   "outputs": [],
   "source": []
  }
 ],
 "metadata": {
  "kernelspec": {
   "display_name": "Python 3 (ipykernel)",
   "language": "python",
   "name": "python3"
  },
  "language_info": {
   "codemirror_mode": {
    "name": "ipython",
    "version": 3
   },
   "file_extension": ".py",
   "mimetype": "text/x-python",
   "name": "python",
   "nbconvert_exporter": "python",
   "pygments_lexer": "ipython3",
   "version": "3.11.4"
  }
 },
 "nbformat": 4,
 "nbformat_minor": 5
}
