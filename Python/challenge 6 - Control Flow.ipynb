{
 "cells": [
  {
   "cell_type": "code",
   "execution_count": null,
   "id": "14ae8e50",
   "metadata": {},
   "outputs": [],
   "source": [
    "'''1. Create an IF code block with the following elements:\n",
    "weevil_a has a value of 65.\n",
    "weevil_b has a value of 150.\n",
    "create an if statement: If weevil_a  is less than weevil_b then print \"weevil_a is the lesser of two weevils\".\n",
    "add an 'elif' statement for the condition where weevil_b is smaller.\n",
    "add an 'else' for the condition that they are equal. '''"
   ]
  },
  {
   "cell_type": "code",
   "execution_count": 12,
   "id": "c5744963",
   "metadata": {},
   "outputs": [],
   "source": [
    "#import libaries\n",
    "import math\n",
    "import pandas as pd\n",
    "import numpy as np\n",
    "import matplotlib.pylab as plt\n",
    "import seaborn as sns\n",
    "#set row display to maximum\n",
    "pd.set_option('display.max_rows', None)"
   ]
  },
  {
   "cell_type": "code",
   "execution_count": 5,
   "id": "191656cd",
   "metadata": {},
   "outputs": [
    {
     "name": "stdout",
     "output_type": "stream",
     "text": [
      "weevil_a is the lesser of two weevils\n"
     ]
    }
   ],
   "source": [
    "#create values\n",
    "weevil_a = 65\n",
    "weevil_b = 150\n",
    "\n",
    "#if-else\n",
    "if weevil_a  < weevil_b:\n",
    "    print(\"weevil_a is the lesser of two weevils\")\n",
    "elif weevil_a  > weevil_b:\n",
    "    print(\"weevil_b is the lesser of two weevils\")\n",
    "else:\n",
    "    print (\"hey are equal.\")"
   ]
  },
  {
   "cell_type": "code",
   "execution_count": 4,
   "id": "301e413f",
   "metadata": {},
   "outputs": [
    {
     "name": "stdout",
     "output_type": "stream",
     "text": [
      "weevil_a is the lesser of two weevils\n"
     ]
    }
   ],
   "source": [
    "'''2. Create a WHILE code block using the AND operator with the following elements:\n",
    "x = 1\n",
    "while x < 25 execute the following logic:\n",
    "print x\n",
    "IF x > 12  AND x < 20, print the statement \"the troubled teen years\". \n",
    "increment x by 1 '''"
   ]
  },
  {
   "cell_type": "code",
   "execution_count": 9,
   "id": "956c41f2",
   "metadata": {},
   "outputs": [
    {
     "name": "stdout",
     "output_type": "stream",
     "text": [
      "1\n",
      "2\n",
      "3\n",
      "4\n",
      "5\n",
      "6\n",
      "7\n",
      "8\n",
      "9\n",
      "10\n",
      "11\n",
      "12\n",
      "13\n",
      "the troubled teen years\n",
      "14\n",
      "the troubled teen years\n",
      "15\n",
      "the troubled teen years\n",
      "16\n",
      "the troubled teen years\n",
      "17\n",
      "the troubled teen years\n",
      "18\n",
      "the troubled teen years\n",
      "19\n",
      "the troubled teen years\n",
      "20\n",
      "21\n",
      "22\n",
      "23\n",
      "24\n"
     ]
    }
   ],
   "source": [
    "x=1\n",
    "while x <25:\n",
    "    print(x)\n",
    "    if x > 12 and x < 20:\n",
    "        print(\"the troubled teen years\")\n",
    "    x+=1"
   ]
  },
  {
   "cell_type": "code",
   "execution_count": null,
   "id": "fbcd78f5",
   "metadata": {},
   "outputs": [],
   "source": [
    "'''3. Create a FOR loop with the following elements:\n",
    "Create a list of grocery items (e.g. groceries = ['bread', 'milk', etc...]).\n",
    "Iterate through the list using a FOR loop and a variable 'item'.\n",
    "Print \"I forgot the \" and then the item in the list (e.g. \"I forgot the bread\").\n",
    "add an IF block inside the FOR loop that checks if the item == 'kale' and print \"nobody likes kale, anyway\".'''"
   ]
  },
  {
   "cell_type": "code",
   "execution_count": 10,
   "id": "cac3a8c2",
   "metadata": {},
   "outputs": [
    {
     "name": "stdout",
     "output_type": "stream",
     "text": [
      "I forgot the bread\n",
      "I forgot the milk\n",
      "I forgot the eggs\n",
      "I forgot the pasta\n",
      "I forgot the yogurt\n",
      "I forgot the kale\n",
      "nobody likes kale, anyway\n"
     ]
    }
   ],
   "source": [
    "groceries = ['bread', 'milk', 'eggs','pasta', 'yogurt', 'kale']\n",
    "for x in groceries:\n",
    "    print(\"I forgot the \"+ x)\n",
    "    if x == 'kale':\n",
    "        print(\"nobody likes kale, anyway\")"
   ]
  },
  {
   "cell_type": "code",
   "execution_count": null,
   "id": "d52c5b28",
   "metadata": {},
   "outputs": [],
   "source": [
    "'''Create a function that calculates the area of a circle.  \n",
    "Use the radius as the argument.   \n",
    "Call the function and specify a radius of 10.  '''"
   ]
  },
  {
   "cell_type": "code",
   "execution_count": 13,
   "id": "e39997fe",
   "metadata": {},
   "outputs": [
    {
     "name": "stdout",
     "output_type": "stream",
     "text": [
      "314.1592653589793\n"
     ]
    }
   ],
   "source": [
    "def area_circle(r):\n",
    "    print(math.pi*(r**2))\n",
    "area_circle(10)"
   ]
  },
  {
   "cell_type": "code",
   "execution_count": null,
   "id": "f3a5df7b",
   "metadata": {},
   "outputs": [],
   "source": []
  }
 ],
 "metadata": {
  "kernelspec": {
   "display_name": "Python 3 (ipykernel)",
   "language": "python",
   "name": "python3"
  },
  "language_info": {
   "codemirror_mode": {
    "name": "ipython",
    "version": 3
   },
   "file_extension": ".py",
   "mimetype": "text/x-python",
   "name": "python",
   "nbconvert_exporter": "python",
   "pygments_lexer": "ipython3",
   "version": "3.11.4"
  }
 },
 "nbformat": 4,
 "nbformat_minor": 5
}
