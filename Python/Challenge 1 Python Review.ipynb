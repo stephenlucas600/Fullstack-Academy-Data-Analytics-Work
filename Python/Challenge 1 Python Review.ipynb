{
 "cells": [
  {
   "cell_type": "code",
   "execution_count": 2,
   "id": "d9201a3b",
   "metadata": {},
   "outputs": [
    {
     "name": "stdout",
     "output_type": "stream",
     "text": [
      "Python is the best coding language!\n"
     ]
    }
   ],
   "source": [
    "# Q1\n",
    "print(\"Python is the best coding language!\")"
   ]
  },
  {
   "cell_type": "code",
   "execution_count": 4,
   "id": "3dfd16b2",
   "metadata": {},
   "outputs": [
    {
     "name": "stdout",
     "output_type": "stream",
     "text": [
      "It’s time to go\n",
      "It’s time to go\n"
     ]
    }
   ],
   "source": [
    "# Q2\n",
    "print('It’s time to go')\n",
    "print(\"It’s time to go\")"
   ]
  },
  {
   "cell_type": "code",
   "execution_count": 5,
   "id": "e5a63fe9",
   "metadata": {},
   "outputs": [],
   "source": [
    "# Q3\n",
    "a = 'dog'\n",
    "b = 'cat'"
   ]
  },
  {
   "cell_type": "code",
   "execution_count": 6,
   "id": "969d8536",
   "metadata": {},
   "outputs": [],
   "source": [
    "# Q4\n",
    "b = 'bird'"
   ]
  },
  {
   "cell_type": "code",
   "execution_count": 7,
   "id": "169141bb",
   "metadata": {},
   "outputs": [
    {
     "name": "stdout",
     "output_type": "stream",
     "text": [
      "Today is a good day!\n"
     ]
    }
   ],
   "source": [
    "# Q5\n",
    "a = 'good day!'\n",
    "print('Today is a ' + a)"
   ]
  },
  {
   "cell_type": "code",
   "execution_count": 11,
   "id": "2caa9735",
   "metadata": {},
   "outputs": [
    {
     "name": "stdout",
     "output_type": "stream",
     "text": [
      "['orders', 'count', 'sold', 'cancelled']\n"
     ]
    },
    {
     "data": {
      "text/plain": [
       "'sold'"
      ]
     },
     "execution_count": 11,
     "metadata": {},
     "output_type": "execute_result"
    }
   ],
   "source": [
    "# Q6\n",
    "a = 'orders'\n",
    "b = 'count'\n",
    "c = 'sold'\n",
    "d = 'cancelled'\n",
    "sales = [a,b,c,d]\n",
    "print(sales)\n",
    "sales [2]"
   ]
  },
  {
   "cell_type": "code",
   "execution_count": 12,
   "id": "3e9ac22b",
   "metadata": {},
   "outputs": [
    {
     "data": {
      "text/plain": [
       "40"
      ]
     },
     "execution_count": 12,
     "metadata": {},
     "output_type": "execute_result"
    }
   ],
   "source": [
    "# Q7\n",
    "a = 15\n",
    "b = 25\n",
    "a + b"
   ]
  },
  {
   "cell_type": "code",
   "execution_count": 13,
   "id": "d45756b6",
   "metadata": {},
   "outputs": [
    {
     "name": "stdout",
     "output_type": "stream",
     "text": [
      "A bright sunshining day!A bright sunshining day!\n"
     ]
    }
   ],
   "source": [
    "# Q8\n",
    "x = 'A bright '\n",
    "y= 'sunshining day!'\n",
    "z = x + y\n",
    "print(x + y + z)"
   ]
  },
  {
   "cell_type": "code",
   "execution_count": null,
   "id": "667f034e",
   "metadata": {},
   "outputs": [],
   "source": []
  }
 ],
 "metadata": {
  "kernelspec": {
   "display_name": "Python 3 (ipykernel)",
   "language": "python",
   "name": "python3"
  },
  "language_info": {
   "codemirror_mode": {
    "name": "ipython",
    "version": 3
   },
   "file_extension": ".py",
   "mimetype": "text/x-python",
   "name": "python",
   "nbconvert_exporter": "python",
   "pygments_lexer": "ipython3",
   "version": "3.11.4"
  }
 },
 "nbformat": 4,
 "nbformat_minor": 5
}
