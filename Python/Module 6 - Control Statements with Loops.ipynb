{
 "cells": [
  {
   "cell_type": "code",
   "execution_count": 30,
   "id": "ec2348a6",
   "metadata": {},
   "outputs": [],
   "source": [
    "import pandas as pd"
   ]
  },
  {
   "cell_type": "code",
   "execution_count": 39,
   "id": "2a3555de",
   "metadata": {},
   "outputs": [
    {
     "name": "stdout",
     "output_type": "stream",
     "text": [
      "Conditions are not true\n"
     ]
    }
   ],
   "source": [
    "#IF Else\n",
    "a = 30\n",
    "b = 100\n",
    "c = 400\n",
    "if a > b and c > a:\n",
    "    print('Conditions are true')\n",
    "else:\n",
    "    print('Conditions are not true')"
   ]
  },
  {
   "cell_type": "code",
   "execution_count": 4,
   "id": "7c6dde20",
   "metadata": {},
   "outputs": [
    {
     "name": "stdout",
     "output_type": "stream",
     "text": [
      "C is the largest number\n"
     ]
    }
   ],
   "source": [
    "#IF Else\n",
    "a = 30\n",
    "b = 100\n",
    "c = 400\n",
    "if c > b and c > a:\n",
    "    print('C is the largest number')\n",
    "elif b > a and b > c:\n",
    "    print('B is the largest number')\n",
    "else:\n",
    "    print('A is the largest number')"
   ]
  },
  {
   "cell_type": "code",
   "execution_count": 11,
   "id": "ca7abf6f",
   "metadata": {},
   "outputs": [
    {
     "name": "stdout",
     "output_type": "stream",
     "text": [
      "1\n",
      "2\n",
      "3\n",
      "4\n",
      "5\n",
      "6\n",
      "7\n",
      "8\n",
      "9\n",
      "10\n"
     ]
    }
   ],
   "source": [
    "#While statement\n",
    "x = 1\n",
    "while x <=10:\n",
    "    print(x)\n",
    "    #x = x+1\n",
    "    x+=1\n"
   ]
  },
  {
   "cell_type": "code",
   "execution_count": 13,
   "id": "ae2ed014",
   "metadata": {},
   "outputs": [
    {
     "name": "stdout",
     "output_type": "stream",
     "text": [
      "red apple\n",
      "red banana\n",
      "red cherry\n",
      "big apple\n",
      "big banana\n",
      "big cherry\n",
      "apple apple\n",
      "apple banana\n",
      "apple cherry\n"
     ]
    }
   ],
   "source": [
    "description = ['red','big','apple']\n",
    "fruits = ['apple','banana','cherry']\n",
    "\n",
    "#simple for loop\n",
    "#for x in description:\n",
    " #   print(x)\n",
    "    \n",
    "#nested for loop\n",
    "for x in description:\n",
    "    for y in fruits:\n",
    "        print(x,y)"
   ]
  },
  {
   "cell_type": "code",
   "execution_count": 14,
   "id": "18354534",
   "metadata": {},
   "outputs": [
    {
     "name": "stdout",
     "output_type": "stream",
     "text": [
      "False 9\n",
      "True 4\n",
      "True 2\n"
     ]
    }
   ],
   "source": [
    "#Break Statement\n",
    "n = [9,4,2,6,7,10,3,8]\n",
    "\n",
    "for val in n:\n",
    "    if val ==6:\n",
    "        break\n",
    "    print(val%2==0, val)"
   ]
  },
  {
   "cell_type": "code",
   "execution_count": 15,
   "id": "01dca63c",
   "metadata": {},
   "outputs": [
    {
     "name": "stdout",
     "output_type": "stream",
     "text": [
      "False 9\n",
      "True 4\n",
      "True 2\n",
      "False 7\n",
      "True 10\n",
      "False 3\n",
      "True 8\n"
     ]
    }
   ],
   "source": [
    "#Continue Statement  \n",
    "n = [9,4,2,6,7,10,3,8]\n",
    "\n",
    "for val in n:\n",
    "    if val ==6:\n",
    "       continue  #skips the value of 6\n",
    "    print(val%2==0, val)"
   ]
  },
  {
   "cell_type": "code",
   "execution_count": 21,
   "id": "8a8e0e69",
   "metadata": {},
   "outputs": [
    {
     "name": "stdout",
     "output_type": "stream",
     "text": [
      "False\n",
      "True\n",
      "True\n",
      "True\n",
      "False\n",
      "True\n",
      "False\n",
      "True\n"
     ]
    }
   ],
   "source": [
    "#Pass Statement ****Find new for pass \n",
    "n = [9,4,2,6,7,10,3,8]\n",
    "\n",
    "for val in n:\n",
    "    if val ==6:\n",
    "       pass  \n",
    "    print(val%2==0,val)\n",
    "#print('Not divisible by 2')"
   ]
  },
  {
   "cell_type": "code",
   "execution_count": 24,
   "id": "119ae6f1",
   "metadata": {},
   "outputs": [
    {
     "name": "stdout",
     "output_type": "stream",
     "text": [
      "Take an umbrella.\n"
     ]
    }
   ],
   "source": [
    "#Nested If-Else\n",
    "temperature = 60 \n",
    "raining = True\n",
    "\n",
    "if temperature > 60:\n",
    "    if raining == True:\n",
    "        print(\"It's humid and rainy. Stay inside.\")\n",
    "    else:\n",
    "        print(\"It's nice. Go and take a walk outside.\")\n",
    "else:\n",
    "    if raining == False:\n",
    "        print(\"It's cool.\")\n",
    "    else:\n",
    "        print(\"Take an umbrella.\")\n",
    "        \n"
   ]
  },
  {
   "cell_type": "code",
   "execution_count": 28,
   "id": "599d4e1f",
   "metadata": {},
   "outputs": [
    {
     "name": "stdout",
     "output_type": "stream",
     "text": [
      "9\n"
     ]
    }
   ],
   "source": [
    "a = 1\n",
    "b = 30\n",
    "\n",
    "def add_num(a,b):\n",
    "    print(a+b)\n",
    "    \n",
    "add_num(4,5)"
   ]
  },
  {
   "cell_type": "code",
   "execution_count": 29,
   "id": "9b16d205",
   "metadata": {},
   "outputs": [
    {
     "name": "stdout",
     "output_type": "stream",
     "text": [
      "108\n"
     ]
    }
   ],
   "source": [
    "def product_num(x,y):\n",
    "    print(x*y)\n",
    "\n",
    "product_num(12,9)"
   ]
  },
  {
   "cell_type": "code",
   "execution_count": 32,
   "id": "73dd83f3",
   "metadata": {},
   "outputs": [
    {
     "data": {
      "text/html": [
       "<div>\n",
       "<style scoped>\n",
       "    .dataframe tbody tr th:only-of-type {\n",
       "        vertical-align: middle;\n",
       "    }\n",
       "\n",
       "    .dataframe tbody tr th {\n",
       "        vertical-align: top;\n",
       "    }\n",
       "\n",
       "    .dataframe thead th {\n",
       "        text-align: right;\n",
       "    }\n",
       "</style>\n",
       "<table border=\"1\" class=\"dataframe\">\n",
       "  <thead>\n",
       "    <tr style=\"text-align: right;\">\n",
       "      <th></th>\n",
       "      <th>Name</th>\n",
       "      <th>Age</th>\n",
       "    </tr>\n",
       "  </thead>\n",
       "  <tbody>\n",
       "    <tr>\n",
       "      <th>0</th>\n",
       "      <td>Mike</td>\n",
       "      <td>25</td>\n",
       "    </tr>\n",
       "    <tr>\n",
       "      <th>1</th>\n",
       "      <td>John</td>\n",
       "      <td>35</td>\n",
       "    </tr>\n",
       "    <tr>\n",
       "      <th>2</th>\n",
       "      <td>Sally</td>\n",
       "      <td>40</td>\n",
       "    </tr>\n",
       "    <tr>\n",
       "      <th>3</th>\n",
       "      <td>Steve</td>\n",
       "      <td>30</td>\n",
       "    </tr>\n",
       "    <tr>\n",
       "      <th>4</th>\n",
       "      <td>Jane</td>\n",
       "      <td>21</td>\n",
       "    </tr>\n",
       "  </tbody>\n",
       "</table>\n",
       "</div>"
      ],
      "text/plain": [
       "    Name  Age\n",
       "0   Mike   25\n",
       "1   John   35\n",
       "2  Sally   40\n",
       "3  Steve   30\n",
       "4   Jane   21"
      ]
     },
     "execution_count": 32,
     "metadata": {},
     "output_type": "execute_result"
    }
   ],
   "source": [
    "data = {\n",
    "    'Name': ['Mike','John','Sally','Steve','Jane'],\n",
    "    'Age':[25,35,40,30,21],\n",
    "}\n",
    "\n",
    "df = pd.DataFrame(data)\n",
    "df"
   ]
  },
  {
   "cell_type": "code",
   "execution_count": 38,
   "id": "49a28cb9",
   "metadata": {},
   "outputs": [
    {
     "data": {
      "text/html": [
       "<div>\n",
       "<style scoped>\n",
       "    .dataframe tbody tr th:only-of-type {\n",
       "        vertical-align: middle;\n",
       "    }\n",
       "\n",
       "    .dataframe tbody tr th {\n",
       "        vertical-align: top;\n",
       "    }\n",
       "\n",
       "    .dataframe thead th {\n",
       "        text-align: right;\n",
       "    }\n",
       "</style>\n",
       "<table border=\"1\" class=\"dataframe\">\n",
       "  <thead>\n",
       "    <tr style=\"text-align: right;\">\n",
       "      <th></th>\n",
       "      <th>Name</th>\n",
       "      <th>Age</th>\n",
       "      <th>Age Comparison</th>\n",
       "    </tr>\n",
       "  </thead>\n",
       "  <tbody>\n",
       "    <tr>\n",
       "      <th>0</th>\n",
       "      <td>Mike</td>\n",
       "      <td>25</td>\n",
       "      <td>Younger than 30</td>\n",
       "    </tr>\n",
       "    <tr>\n",
       "      <th>1</th>\n",
       "      <td>John</td>\n",
       "      <td>35</td>\n",
       "      <td>35 years old or older</td>\n",
       "    </tr>\n",
       "    <tr>\n",
       "      <th>2</th>\n",
       "      <td>Sally</td>\n",
       "      <td>40</td>\n",
       "      <td>40 years old or older</td>\n",
       "    </tr>\n",
       "    <tr>\n",
       "      <th>3</th>\n",
       "      <td>Steve</td>\n",
       "      <td>30</td>\n",
       "      <td>30 years old or older</td>\n",
       "    </tr>\n",
       "    <tr>\n",
       "      <th>4</th>\n",
       "      <td>Jane</td>\n",
       "      <td>21</td>\n",
       "      <td>Younger than 30</td>\n",
       "    </tr>\n",
       "  </tbody>\n",
       "</table>\n",
       "</div>"
      ],
      "text/plain": [
       "    Name  Age         Age Comparison\n",
       "0   Mike   25        Younger than 30\n",
       "1   John   35  35 years old or older\n",
       "2  Sally   40  40 years old or older\n",
       "3  Steve   30  30 years old or older\n",
       "4   Jane   21        Younger than 30"
      ]
     },
     "execution_count": 38,
     "metadata": {},
     "output_type": "execute_result"
    }
   ],
   "source": [
    "#pass value into the function, create new column with the results\n",
    "def age_comparison(row):\n",
    "    age_threshold = 30\n",
    "    if row['Age'] < age_threshold:\n",
    "        return f\"Younger than {age_threshold}\"\n",
    "    else:\n",
    "        return f\"{row['Age']} years old or older\"\n",
    "    \n",
    "\n",
    "df['Age Comparison'] = df.apply(age_comparison, axis = 1)\n",
    "df\n"
   ]
  }
 ],
 "metadata": {
  "kernelspec": {
   "display_name": "Python 3 (ipykernel)",
   "language": "python",
   "name": "python3"
  },
  "language_info": {
   "codemirror_mode": {
    "name": "ipython",
    "version": 3
   },
   "file_extension": ".py",
   "mimetype": "text/x-python",
   "name": "python",
   "nbconvert_exporter": "python",
   "pygments_lexer": "ipython3",
   "version": "3.9.7"
  }
 },
 "nbformat": 4,
 "nbformat_minor": 5
}
