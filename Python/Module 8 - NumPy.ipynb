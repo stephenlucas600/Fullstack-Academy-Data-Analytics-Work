{
 "cells": [
  {
   "cell_type": "code",
   "execution_count": 1,
   "id": "1b36e6e4",
   "metadata": {},
   "outputs": [],
   "source": [
    "import pandas as pd\n",
    "import numpy as np"
   ]
  },
  {
   "cell_type": "code",
   "execution_count": 3,
   "id": "da7c30d7",
   "metadata": {},
   "outputs": [
    {
     "name": "stdout",
     "output_type": "stream",
     "text": [
      "[ 2  4  6  8 10]\n"
     ]
    }
   ],
   "source": [
    "arr = np.array([2,4,6,8,10])\n",
    "print(arr)"
   ]
  },
  {
   "cell_type": "code",
   "execution_count": 4,
   "id": "752a8011",
   "metadata": {},
   "outputs": [
    {
     "name": "stdout",
     "output_type": "stream",
     "text": [
      "[ 2  4  6  8 10]\n"
     ]
    }
   ],
   "source": [
    "arr = np.array([2,4,6,8,10], dtype = 'i')\n",
    "print(arr)"
   ]
  },
  {
   "cell_type": "code",
   "execution_count": 7,
   "id": "67c7a3c1",
   "metadata": {},
   "outputs": [
    {
     "name": "stdout",
     "output_type": "stream",
     "text": [
      "int32\n"
     ]
    },
    {
     "data": {
      "text/plain": [
       "array([ 2,  4,  6,  8, 10], dtype=int32)"
      ]
     },
     "execution_count": 7,
     "metadata": {},
     "output_type": "execute_result"
    }
   ],
   "source": [
    "#to show the data type\n",
    "print(arr.dtype)\n",
    "arr.dtype\n",
    "arr"
   ]
  },
  {
   "cell_type": "code",
   "execution_count": 10,
   "id": "e2f8c00b",
   "metadata": {},
   "outputs": [
    {
     "name": "stdout",
     "output_type": "stream",
     "text": [
      "[ 2.  4.  6.  8. 10.]\n"
     ]
    }
   ],
   "source": [
    "#Change the data type to a float\n",
    "arr = np.array([2,4,6,8,10], dtype = 'f')\n",
    "arr\n",
    "print(arr)"
   ]
  },
  {
   "cell_type": "code",
   "execution_count": 11,
   "id": "7d2221ec",
   "metadata": {},
   "outputs": [
    {
     "data": {
      "text/plain": [
       "array(['house', 'apartment', 'condo', 'tent', 'igloo'], dtype='<U9')"
      ]
     },
     "execution_count": 11,
     "metadata": {},
     "output_type": "execute_result"
    }
   ],
   "source": [
    "#Adding string values to an array\n",
    "hometypes = np.array(['house','apartment','condo', 'tent', 'igloo'])\n",
    "hometypes"
   ]
  },
  {
   "cell_type": "code",
   "execution_count": 14,
   "id": "8c05543c",
   "metadata": {},
   "outputs": [
    {
     "data": {
      "text/html": [
       "<div>\n",
       "<style scoped>\n",
       "    .dataframe tbody tr th:only-of-type {\n",
       "        vertical-align: middle;\n",
       "    }\n",
       "\n",
       "    .dataframe tbody tr th {\n",
       "        vertical-align: top;\n",
       "    }\n",
       "\n",
       "    .dataframe thead th {\n",
       "        text-align: right;\n",
       "    }\n",
       "</style>\n",
       "<table border=\"1\" class=\"dataframe\">\n",
       "  <thead>\n",
       "    <tr style=\"text-align: right;\">\n",
       "      <th></th>\n",
       "      <th>0</th>\n",
       "    </tr>\n",
       "  </thead>\n",
       "  <tbody>\n",
       "    <tr>\n",
       "      <th>0</th>\n",
       "      <td>house</td>\n",
       "    </tr>\n",
       "    <tr>\n",
       "      <th>1</th>\n",
       "      <td>apartment</td>\n",
       "    </tr>\n",
       "    <tr>\n",
       "      <th>2</th>\n",
       "      <td>condo</td>\n",
       "    </tr>\n",
       "    <tr>\n",
       "      <th>3</th>\n",
       "      <td>tent</td>\n",
       "    </tr>\n",
       "    <tr>\n",
       "      <th>4</th>\n",
       "      <td>igloo</td>\n",
       "    </tr>\n",
       "  </tbody>\n",
       "</table>\n",
       "</div>"
      ],
      "text/plain": [
       "           0\n",
       "0      house\n",
       "1  apartment\n",
       "2      condo\n",
       "3       tent\n",
       "4      igloo"
      ]
     },
     "execution_count": 14,
     "metadata": {},
     "output_type": "execute_result"
    }
   ],
   "source": [
    "hometypes2= pd.DataFrame(hometypes)\n",
    "hometypes2"
   ]
  },
  {
   "cell_type": "code",
   "execution_count": 15,
   "id": "88ae1756",
   "metadata": {},
   "outputs": [
    {
     "data": {
      "text/html": [
       "<div>\n",
       "<style scoped>\n",
       "    .dataframe tbody tr th:only-of-type {\n",
       "        vertical-align: middle;\n",
       "    }\n",
       "\n",
       "    .dataframe tbody tr th {\n",
       "        vertical-align: top;\n",
       "    }\n",
       "\n",
       "    .dataframe thead th {\n",
       "        text-align: right;\n",
       "    }\n",
       "</style>\n",
       "<table border=\"1\" class=\"dataframe\">\n",
       "  <thead>\n",
       "    <tr style=\"text-align: right;\">\n",
       "      <th></th>\n",
       "      <th>types</th>\n",
       "    </tr>\n",
       "  </thead>\n",
       "  <tbody>\n",
       "    <tr>\n",
       "      <th>0</th>\n",
       "      <td>house</td>\n",
       "    </tr>\n",
       "    <tr>\n",
       "      <th>1</th>\n",
       "      <td>apartment</td>\n",
       "    </tr>\n",
       "    <tr>\n",
       "      <th>2</th>\n",
       "      <td>condo</td>\n",
       "    </tr>\n",
       "    <tr>\n",
       "      <th>3</th>\n",
       "      <td>tent</td>\n",
       "    </tr>\n",
       "    <tr>\n",
       "      <th>4</th>\n",
       "      <td>igloo</td>\n",
       "    </tr>\n",
       "  </tbody>\n",
       "</table>\n",
       "</div>"
      ],
      "text/plain": [
       "       types\n",
       "0      house\n",
       "1  apartment\n",
       "2      condo\n",
       "3       tent\n",
       "4      igloo"
      ]
     },
     "execution_count": 15,
     "metadata": {},
     "output_type": "execute_result"
    }
   ],
   "source": [
    "hometypes2.rename(columns = {0:\"types\"})"
   ]
  },
  {
   "cell_type": "code",
   "execution_count": 16,
   "id": "f523b39b",
   "metadata": {},
   "outputs": [
    {
     "name": "stdout",
     "output_type": "stream",
     "text": [
      "[[ 2  4  8]\n",
      " [10 12 14]]\n"
     ]
    }
   ],
   "source": [
    "#2D array\n",
    "a = np.array([[2,4,8], [10,12,14]])\n",
    "print(a)"
   ]
  },
  {
   "cell_type": "code",
   "execution_count": 18,
   "id": "483cb50b",
   "metadata": {},
   "outputs": [
    {
     "name": "stdout",
     "output_type": "stream",
     "text": [
      "[[ 2  4  8]\n",
      " [10 12 14]\n",
      " [16 18 20]]\n",
      "(3, 3)\n"
     ]
    }
   ],
   "source": [
    "#3D array\n",
    "b = np.array([[2,4,8], [10,12,14], [16,18,20]])\n",
    "print(b)\n",
    "print(b.shape) #shape of the array"
   ]
  },
  {
   "cell_type": "code",
   "execution_count": 22,
   "id": "a4e01c26",
   "metadata": {},
   "outputs": [
    {
     "name": "stdout",
     "output_type": "stream",
     "text": [
      "[list([2, 4, 5]) list([10, 12]) list([16, 18, 7])]\n",
      "(3,)\n"
     ]
    }
   ],
   "source": [
    "c = np.array([[2,4,5], [10,12], [16,18,7]], dtype = 'object')\n",
    "print(c)\n",
    "print(c.shape) #shape of the array"
   ]
  },
  {
   "cell_type": "code",
   "execution_count": 24,
   "id": "2a270b43",
   "metadata": {},
   "outputs": [
    {
     "name": "stdout",
     "output_type": "stream",
     "text": [
      "[[ 2  4  8  1]\n",
      " [10 12 14  3]\n",
      " [16 18 20  5]\n",
      " [22 24 26  7]]\n",
      "(4, 4)\n"
     ]
    }
   ],
   "source": [
    "d = np.array([[2,4,8,1], [10,12,14,3], [16,18,20,5],[22,24,26,7]])\n",
    "print(d)\n",
    "print(d.shape) #shape of the array"
   ]
  },
  {
   "cell_type": "code",
   "execution_count": 28,
   "id": "d8cc8ba0",
   "metadata": {},
   "outputs": [
    {
     "data": {
      "text/plain": [
       "14"
      ]
     },
     "execution_count": 28,
     "metadata": {},
     "output_type": "execute_result"
    }
   ],
   "source": [
    "a = np.array([[2,4,8], [10,12,14]]) #a = np.array([[2,4,8], [10,12,14]])\n",
    "a[0,0] #2\n",
    "a[1,2] #14"
   ]
  },
  {
   "cell_type": "code",
   "execution_count": 31,
   "id": "ee8edafd",
   "metadata": {},
   "outputs": [
    {
     "name": "stdout",
     "output_type": "stream",
     "text": [
      "18 24\n",
      "34\n"
     ]
    }
   ],
   "source": [
    "d = np.array([[2,4,8,1], [10,12,14,3], [16,18,20,5],[22,24,26,7]])\n",
    "print(d[2,1], d[3,1]) #18,24\n",
    "print(d[0,2] +d[3,2] ) #8 + 26"
   ]
  },
  {
   "cell_type": "code",
   "execution_count": 33,
   "id": "a57c0966",
   "metadata": {},
   "outputs": [
    {
     "data": {
      "text/plain": [
       "20"
      ]
     },
     "execution_count": 33,
     "metadata": {},
     "output_type": "execute_result"
    }
   ],
   "source": [
    "d[-1,-1] #7 from the opposite end\n",
    "d[-2,2]"
   ]
  },
  {
   "cell_type": "code",
   "execution_count": 34,
   "id": "e58a0285",
   "metadata": {},
   "outputs": [
    {
     "data": {
      "text/plain": [
       "array([[ 2,  4,  8,  1],\n",
       "       [10, 12, 14,  3],\n",
       "       [16, 18, 20,  5],\n",
       "       [22, 24, 26,  7]])"
      ]
     },
     "execution_count": 34,
     "metadata": {},
     "output_type": "execute_result"
    }
   ],
   "source": [
    "d_copy = d.copy()\n",
    "d_copy"
   ]
  },
  {
   "cell_type": "code",
   "execution_count": 36,
   "id": "bb5fe30d",
   "metadata": {},
   "outputs": [
    {
     "data": {
      "text/plain": [
       "array([[ 2,  4,  8,  1],\n",
       "       [10, 12, 14,  3],\n",
       "       [16, 18, 20,  9],\n",
       "       [22, 24, 26,  7]])"
      ]
     },
     "execution_count": 36,
     "metadata": {},
     "output_type": "execute_result"
    }
   ],
   "source": [
    "#replacing a value within the array\n",
    "d_copy[2,3] = 9\n",
    "d_copy"
   ]
  },
  {
   "cell_type": "code",
   "execution_count": 37,
   "id": "f5815b63",
   "metadata": {},
   "outputs": [
    {
     "data": {
      "text/plain": [
       "array([[10, 12, 14,  3],\n",
       "       [16, 18, 20,  5]])"
      ]
     },
     "execution_count": 37,
     "metadata": {},
     "output_type": "execute_result"
    }
   ],
   "source": [
    "d[1:3]"
   ]
  },
  {
   "cell_type": "code",
   "execution_count": 38,
   "id": "1d225c48",
   "metadata": {},
   "outputs": [
    {
     "data": {
      "text/plain": [
       "array([[ 2,  4,  8,  1],\n",
       "       [10, 12, 14,  3]])"
      ]
     },
     "execution_count": 38,
     "metadata": {},
     "output_type": "execute_result"
    }
   ],
   "source": [
    "d[:2]"
   ]
  },
  {
   "cell_type": "code",
   "execution_count": 39,
   "id": "daf47302",
   "metadata": {},
   "outputs": [
    {
     "data": {
      "text/plain": [
       "array([[10, 12, 14,  3],\n",
       "       [16, 18, 20,  5]])"
      ]
     },
     "execution_count": 39,
     "metadata": {},
     "output_type": "execute_result"
    }
   ],
   "source": [
    "d[-3:-1]"
   ]
  },
  {
   "cell_type": "code",
   "execution_count": 40,
   "id": "3602e66d",
   "metadata": {},
   "outputs": [
    {
     "data": {
      "text/plain": [
       "array([[10, 12, 14,  3],\n",
       "       [16, 18, 20,  5],\n",
       "       [22, 24, 26,  7]])"
      ]
     },
     "execution_count": 40,
     "metadata": {},
     "output_type": "execute_result"
    }
   ],
   "source": [
    "d[1:]"
   ]
  },
  {
   "cell_type": "code",
   "execution_count": 56,
   "id": "359bdd2a",
   "metadata": {},
   "outputs": [
    {
     "data": {
      "text/plain": [
       "array([ 2,  4,  8,  1, 10, 12, 14,  3, 16, 18, 20,  5, 22, 24, 26,  7])"
      ]
     },
     "execution_count": 56,
     "metadata": {},
     "output_type": "execute_result"
    }
   ],
   "source": [
    "type(d)\n",
    "type(a)\n",
    "hometypes.ndim #shows the number of axes\n",
    "d.shape #shape of the array\n",
    "d.size #size of the array\n",
    "d.dtype #type of elements in the array\n",
    "np.random.random((2,2))\n",
    "np.zeros((3,4)) #array with zeros\n",
    "np.arange(0,30,5)\n",
    "np.linspace(0,5,10)\n",
    "a.flatten() #converts multidimensional arrays into a single array\n",
    "d.flatten()"
   ]
  }
 ],
 "metadata": {
  "kernelspec": {
   "display_name": "Python 3 (ipykernel)",
   "language": "python",
   "name": "python3"
  },
  "language_info": {
   "codemirror_mode": {
    "name": "ipython",
    "version": 3
   },
   "file_extension": ".py",
   "mimetype": "text/x-python",
   "name": "python",
   "nbconvert_exporter": "python",
   "pygments_lexer": "ipython3",
   "version": "3.9.7"
  }
 },
 "nbformat": 4,
 "nbformat_minor": 5
}
