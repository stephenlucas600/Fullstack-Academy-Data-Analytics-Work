{
 "cells": [
  {
   "cell_type": "code",
   "execution_count": 1,
   "id": "70eca52d",
   "metadata": {},
   "outputs": [
    {
     "name": "stdout",
     "output_type": "stream",
     "text": [
      "10\n",
      "6\n",
      "16\n",
      "4.0\n",
      "4\n",
      "64\n",
      "0\n"
     ]
    }
   ],
   "source": [
    "# Calculations\n",
    "a = 8\n",
    "b = 2\n",
    "print(a+b)\n",
    "print(a-b)\n",
    "print(a*b)\n",
    "print(a/b)\n",
    "print(a//b)\n",
    "print(a**b)\n",
    "print(a%b)"
   ]
  },
  {
   "cell_type": "code",
   "execution_count": 2,
   "id": "d606f7ba",
   "metadata": {},
   "outputs": [
    {
     "name": "stdout",
     "output_type": "stream",
     "text": [
      "data Analyst\n"
     ]
    }
   ],
   "source": [
    "#Concatenating strings\n",
    "a = 'data' + ' ' + 'Analyst'\n",
    "print(a)\n"
   ]
  },
  {
   "cell_type": "code",
   "execution_count": 3,
   "id": "a9bddc1f",
   "metadata": {},
   "outputs": [
    {
     "name": "stdout",
     "output_type": "stream",
     "text": [
      "Data Analyst\n"
     ]
    }
   ],
   "source": [
    "#SQL Select 'Something Else' as flag\n",
    "#String Literals\n",
    "someword='Data'\n",
    "anotherword='Analyst'\n",
    "print(someword,anotherword)"
   ]
  },
  {
   "cell_type": "code",
   "execution_count": 4,
   "id": "1b856776",
   "metadata": {},
   "outputs": [
    {
     "data": {
      "text/plain": [
       "'l'"
      ]
     },
     "execution_count": 4,
     "metadata": {},
     "output_type": "execute_result"
    }
   ],
   "source": [
    "#Slicing\n",
    "anotherword[3]"
   ]
  },
  {
   "cell_type": "code",
   "execution_count": 5,
   "id": "ee0537ec",
   "metadata": {},
   "outputs": [
    {
     "data": {
      "text/plain": [
       "'aly'"
      ]
     },
     "execution_count": 5,
     "metadata": {},
     "output_type": "execute_result"
    }
   ],
   "source": [
    "anotherword[2:5]"
   ]
  },
  {
   "cell_type": "code",
   "execution_count": 6,
   "id": "82047f87",
   "metadata": {},
   "outputs": [
    {
     "data": {
      "text/plain": [
       "7"
      ]
     },
     "execution_count": 6,
     "metadata": {},
     "output_type": "execute_result"
    }
   ],
   "source": [
    "len(anotherword)"
   ]
  },
  {
   "cell_type": "code",
   "execution_count": null,
   "id": "b630f8d4",
   "metadata": {},
   "outputs": [],
   "source": []
  }
 ],
 "metadata": {
  "kernelspec": {
   "display_name": "Python 3 (ipykernel)",
   "language": "python",
   "name": "python3"
  },
  "language_info": {
   "codemirror_mode": {
    "name": "ipython",
    "version": 3
   },
   "file_extension": ".py",
   "mimetype": "text/x-python",
   "name": "python",
   "nbconvert_exporter": "python",
   "pygments_lexer": "ipython3",
   "version": "3.11.4"
  }
 },
 "nbformat": 4,
 "nbformat_minor": 5
}
