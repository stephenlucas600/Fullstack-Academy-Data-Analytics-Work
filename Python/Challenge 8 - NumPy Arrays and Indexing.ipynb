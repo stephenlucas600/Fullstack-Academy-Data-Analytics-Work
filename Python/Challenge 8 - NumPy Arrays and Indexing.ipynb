{
 "cells": [
  {
   "cell_type": "code",
   "execution_count": 1,
   "id": "77ae301b",
   "metadata": {},
   "outputs": [],
   "source": [
    "#import libaries\n",
    "import pandas as pd\n",
    "import numpy as np\n",
    "import matplotlib.pylab as plt\n",
    "import seaborn as sns\n",
    "\n",
    "pd.set_option('display.max_rows', None)"
   ]
  },
  {
   "cell_type": "markdown",
   "id": "df494403",
   "metadata": {},
   "source": [
    "'''Create a numpy array called ‘height in inches’ from a list 10 of numbers: [66, 68, 71, 64, 61, 74, 64, 65, 70, 71]'''"
   ]
  },
  {
   "cell_type": "code",
   "execution_count": 2,
   "id": "6075cccf",
   "metadata": {},
   "outputs": [
    {
     "name": "stdout",
     "output_type": "stream",
     "text": [
      "[66. 68. 71. 64. 61. 74. 64. 65. 70. 71.]\n"
     ]
    }
   ],
   "source": [
    "height_in_inches = np.array([66, 68, 71, 64, 61, 74, 64, 65, 70, 71], dtype= 'f')\n",
    "print(height_in_inches)"
   ]
  },
  {
   "cell_type": "markdown",
   "id": "5c18ea1d",
   "metadata": {},
   "source": [
    "'''Create a new array called ‘height_in_feet’ and make its values equal to the values in the first array divided by 12.'''"
   ]
  },
  {
   "cell_type": "code",
   "execution_count": 4,
   "id": "aa3d483a",
   "metadata": {},
   "outputs": [
    {
     "name": "stdout",
     "output_type": "stream",
     "text": [
      "[5.5       5.6666665 5.9166665 5.3333335 5.0833335 6.1666665 5.3333335\n",
      " 5.4166665 5.8333335 5.9166665]\n"
     ]
    }
   ],
   "source": [
    "height_in_feet = height_in_inches/12\n",
    "print(height_in_feet)"
   ]
  },
  {
   "cell_type": "markdown",
   "id": "c7af419f",
   "metadata": {},
   "source": [
    "'''Create a 5x5 array of zeros.'''"
   ]
  },
  {
   "cell_type": "code",
   "execution_count": 6,
   "id": "a235e156",
   "metadata": {},
   "outputs": [
    {
     "name": "stdout",
     "output_type": "stream",
     "text": [
      "[[0. 0. 0. 0. 0.]\n",
      " [0. 0. 0. 0. 0.]\n",
      " [0. 0. 0. 0. 0.]\n",
      " [0. 0. 0. 0. 0.]\n",
      " [0. 0. 0. 0. 0.]]\n"
     ]
    }
   ],
   "source": [
    "Fiveby5Zeros = np.zeros((5,5))\n",
    "print(Fiveby5)"
   ]
  },
  {
   "cell_type": "markdown",
   "id": "35f03128",
   "metadata": {},
   "source": [
    "'''Create an array of random floating point numbers between 0 and 100.'''"
   ]
  },
  {
   "cell_type": "code",
   "execution_count": 8,
   "id": "96907d36",
   "metadata": {},
   "outputs": [
    {
     "data": {
      "text/plain": [
       "array([20.97050482, 64.50914472, 50.59556259, 46.97076208, 21.64836285,\n",
       "       67.60996179, 49.21391588, 47.88338722, 47.02538879, 50.9717267 ,\n",
       "        0.30089113, 69.04829289, 53.56621695, 36.88321758, 97.30264257,\n",
       "       16.26479831, 34.54470876, 68.52077016, 99.1211191 , 93.2649436 ,\n",
       "       25.96564033, 55.01759583, 96.60031481, 44.82455343, 86.46476658,\n",
       "       19.75960912, 54.04817024, 91.59240906, 93.44050054, 29.89670665,\n",
       "       38.34395174, 85.43194338, 25.78069181, 72.94478541, 63.86197517,\n",
       "       96.72100717, 35.32284863, 31.60267274,  8.75597069, 23.19962434,\n",
       "       87.82159204,  2.27052393, 88.39983292,  7.46986241, 81.34567142,\n",
       "       85.66494154, 99.39235996, 46.53674239, 92.72481104, 81.35403016,\n",
       "       69.94930928, 21.56473052, 20.10510925, 37.76294006, 71.81724822,\n",
       "       92.23145084,  6.21834751, 79.21874361, 95.09028878, 26.68024773,\n",
       "       49.18223958, 47.62634165, 77.51776398, 57.85971916, 33.19368306,\n",
       "       90.52206154, 65.74901695,  2.53374591, 21.38102439, 84.91581753,\n",
       "       95.24278121, 11.73770747, 69.807144  , 78.00448666, 93.77383302,\n",
       "       79.77028509, 74.67985099, 86.87697437,  2.54557921, 88.85789327,\n",
       "       95.08073786, 76.49365064, 82.24117915, 15.05456596, 56.6405567 ,\n",
       "       67.43385044, 71.93915665, 14.17279341, 28.56321481, 14.92806458,\n",
       "       58.04072418, 31.94537108, 11.41037148, 82.67113852, 38.65168015,\n",
       "       80.12426206, 54.84181123, 85.85316707, 43.34767733, 37.13487925])"
      ]
     },
     "execution_count": 8,
     "metadata": {},
     "output_type": "execute_result"
    }
   ],
   "source": [
    "np.random.rand((100))*100\n",
    "#np.random.rand_sample((100))*100"
   ]
  },
  {
   "cell_type": "markdown",
   "id": "eb65930a",
   "metadata": {},
   "source": [
    "'''Create an array of numbers from 0 to 75 in increments of 5.'''"
   ]
  },
  {
   "cell_type": "code",
   "execution_count": 12,
   "id": "bc0c0262",
   "metadata": {},
   "outputs": [
    {
     "name": "stdout",
     "output_type": "stream",
     "text": [
      "[ 0  5 10 15 20 25 30 35 40 45 50 55 60 65 70 75]\n"
     ]
    }
   ],
   "source": [
    "print(np.arange(0,80,5))\n",
    "#np.arange(0,100)"
   ]
  },
  {
   "cell_type": "code",
   "execution_count": null,
   "id": "4548ce42",
   "metadata": {},
   "outputs": [],
   "source": []
  }
 ],
 "metadata": {
  "kernelspec": {
   "display_name": "Python 3 (ipykernel)",
   "language": "python",
   "name": "python3"
  },
  "language_info": {
   "codemirror_mode": {
    "name": "ipython",
    "version": 3
   },
   "file_extension": ".py",
   "mimetype": "text/x-python",
   "name": "python",
   "nbconvert_exporter": "python",
   "pygments_lexer": "ipython3",
   "version": "3.11.4"
  }
 },
 "nbformat": 4,
 "nbformat_minor": 5
}
